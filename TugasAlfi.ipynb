{
  "nbformat": 4,
  "nbformat_minor": 0,
  "metadata": {
    "colab": {
      "name": "TugasAlfi.ipynb",
      "provenance": [],
      "collapsed_sections": [],
      "authorship_tag": "ABX9TyO3PjI+VuUDfI5jg9Qsdhlv",
      "include_colab_link": true
    },
    "kernelspec": {
      "name": "python3",
      "display_name": "Python 3"
    },
    "language_info": {
      "name": "python"
    }
  },
  "cells": [
    {
      "cell_type": "markdown",
      "metadata": {
        "id": "view-in-github",
        "colab_type": "text"
      },
      "source": [
        "<a href=\"https://colab.research.google.com/github/Alfi-Lukmanul/Data-Mining/blob/main/TugasAlfi.ipynb\" target=\"_parent\"><img src=\"https://colab.research.google.com/assets/colab-badge.svg\" alt=\"Open In Colab\"/></a>"
      ]
    },
    {
      "cell_type": "code",
      "metadata": {
        "id": "lyAhudx3ucyw"
      },
      "source": [
        "import numpy as np\n",
        "import matplotlib.pyplot as plt\n",
        "import pandas as pd\n",
        "dataset = pd.read_csv('dataset-penderitaDBD-2015.csv' )\n",
        "x = dataset.iloc[:, [0,1,3,4,5]].values\n",
        "y = dataset.iloc[:, [2]].values\n"
      ],
      "execution_count": 141,
      "outputs": []
    },
    {
      "cell_type": "code",
      "metadata": {
        "colab": {
          "base_uri": "https://localhost:8080/"
        },
        "id": "9nczIZ39l73z",
        "outputId": "452a7d30-2228-4f26-8169-253fe5225e25"
      },
      "source": [
        "from sklearn.preprocessing import LabelEncoder\n",
        "le = LabelEncoder()\n",
        "y = le.fit_transform(y)"
      ],
      "execution_count": 139,
      "outputs": [
        {
          "output_type": "stream",
          "text": [
            "/usr/local/lib/python3.7/dist-packages/sklearn/preprocessing/_label.py:251: DataConversionWarning: A column-vector y was passed when a 1d array was expected. Please change the shape of y to (n_samples, ), for example using ravel().\n",
            "  y = column_or_1d(y, warn=True)\n"
          ],
          "name": "stderr"
        }
      ]
    },
    {
      "cell_type": "code",
      "metadata": {
        "colab": {
          "base_uri": "https://localhost:8080/"
        },
        "id": "jhfX46_PXIkz",
        "outputId": "068c8194-2330-4c0b-b00b-c8d00fe85ebf"
      },
      "source": [
        "print(x)"
      ],
      "execution_count": 140,
      "outputs": [
        {
          "output_type": "stream",
          "text": [
            "[[2016 1 'Cempaka Putih' 10 0]\n",
            " [2016 2 'Cempaka Putih' 0 0]\n",
            " [2016 1 'Gambir' 5 0]\n",
            " [2016 2 'Gambir' 4 0]\n",
            " [2016 1 'Johar Baru' 15 0]\n",
            " [2016 2 'Johar Baru' 4 0]\n",
            " [2016 1 'Kemayoran' 13 0]\n",
            " [2016 2 'Kemayoran' 7 0]\n",
            " [2016 1 'Menteng' 6 1]\n",
            " [2016 2 'Menteng' 8 0]\n",
            " [2016 1 'Sawah Besar' 18 0]\n",
            " [2016 2 'Sawah Besar' 4 0]\n",
            " [2016 1 'Senen' 9 0]\n",
            " [2016 2 'Senen' 0 0]\n",
            " [2016 1 'Tanah Abang' 10 0]\n",
            " [2016 2 'Tanah Abang' 4 0]\n",
            " [2016 1 'Cilincing' 31 0]\n",
            " [2016 2 'Cilincing' 15 0]\n",
            " [2016 1 'Kelapa Gading' 27 0]\n",
            " [2016 2 'Kelapa Gading' 15 0]\n",
            " [2016 1 'Koja' 44 0]\n",
            " [2016 2 'Koja' 7 0]\n",
            " [2016 1 'Pademangan' 10 0]\n",
            " [2016 2 'Pademangan' 4 0]\n",
            " [2016 1 'Penjaringan' 32 0]\n",
            " [2016 2 'Penjaringan' 2 0]\n",
            " [2016 1 'Tanjung Priok' 26 0]\n",
            " [2016 2 'Tanjung Priok' 6 0]\n",
            " [2016 1 'Cengkareng' 57 0]\n",
            " [2016 2 'Cengkareng' 34 0]\n",
            " [2016 1 'Grogol Petamburan' 32 0]\n",
            " [2016 2 'Grogol Petamburan' 20 0]\n",
            " [2016 1 'Kalideres' 28 0]\n",
            " [2016 2 'Kalideres' 14 0]\n",
            " [2016 1 'Kebon Jeruk' 13 0]\n",
            " [2016 2 'Kebon Jeruk' 5 0]\n",
            " [2016 1 'Kembangan' 16 0]\n",
            " [2016 2 'Kembangan' 4 0]\n",
            " [2016 1 'Palmerah' 21 0]\n",
            " [2016 2 'Palmerah' 8 0]\n",
            " [2016 1 'Taman Sari' 12 0]\n",
            " [2016 2 'Taman Sari' 4 0]\n",
            " [2016 1 'Tambora' 6 0]\n",
            " [2016 2 'Tambora' 5 0]\n",
            " [2016 1 'Cilandak' 23 0]\n",
            " [2016 2 'Cilandak' 20 0]\n",
            " [2016 1 'Jagakarsa' 41 0]\n",
            " [2016 2 'Jagakarsa' 12 0]\n",
            " [2016 1 'Kebayoran Baru' 28 0]\n",
            " [2016 2 'Kebayoran Baru' 4 0]\n",
            " [2016 1 'Kebayoran Lama' 35 0]\n",
            " [2016 2 'Kebayoran Lama' 29 0]\n",
            " [2016 1 'Mampang Prapatan' 17 0]\n",
            " [2016 2 'Mampang Prapatan' 8 0]\n",
            " [2016 1 'Pancoran' 19 0]\n",
            " [2016 2 'Pancoran' 5 0]\n",
            " [2016 1 'Pasar Minggu' 52 0]\n",
            " [2016 2 'Pasar Minggu' 21 0]\n",
            " [2016 1 'Pesanggrahan' 15 0]\n",
            " [2016 2 'Pesanggrahan' 11 0]\n",
            " [2016 1 'Setia Budi' 24 0]\n",
            " [2016 2 'Setia Budi' 8 0]\n",
            " [2016 1 'Tebet' 36 1]\n",
            " [2016 2 'Tebet' 12 0]\n",
            " [2016 1 'Cakung' 22 0]\n",
            " [2016 2 'Cakung' 12 0]\n",
            " [2016 1 'Cipayung' 14 0]\n",
            " [2016 2 'Cipayung' 21 0]\n",
            " [2016 1 'Ciracas' 30 0]\n",
            " [2016 2 'Ciracas' 20 0]\n",
            " [2016 1 'Duren Sawit' 45 0]\n",
            " [2016 2 'Duren Sawit' 41 1]\n",
            " [2016 1 'Jatinegara' 23 0]\n",
            " [2016 2 'Jatinegara' 20 0]\n",
            " [2016 1 'Kramat Jati' 29 0]\n",
            " [2016 2 'Kramat Jati' 20 0]\n",
            " [2016 1 'Makasar' 12 0]\n",
            " [2016 2 'Makasar' 9 0]\n",
            " [2016 1 'Matraman' 16 0]\n",
            " [2016 2 'Matraman' 9 0]\n",
            " [2016 1 'Pasar Rebo' 16 0]\n",
            " [2016 2 'Pasar Rebo' 16 0]\n",
            " [2016 1 'Pulo Gadung' 42 0]\n",
            " [2016 2 'Pulo Gadung' 14 1]\n",
            " [2016 1 'Kep. Seribu Selatan' 0 0]\n",
            " [2016 2 'Kep. Seribu Selatan' 0 0]\n",
            " [2016 1 'Kep. Seribu Utara' 0 0]\n",
            " [2016 2 'Kep. Seribu Utara' 0 0]]\n"
          ],
          "name": "stdout"
        }
      ]
    },
    {
      "cell_type": "code",
      "metadata": {
        "colab": {
          "base_uri": "https://localhost:8080/"
        },
        "id": "9L6usFXiZlRm",
        "outputId": "c93d7b3d-4e15-419f-af52-13f235b477fc"
      },
      "source": [
        "print(y)"
      ],
      "execution_count": 134,
      "outputs": [
        {
          "output_type": "stream",
          "text": [
            "[1 1 1 1 1 1 1 1 1 1 1 1 1 1 1 1 4 4 4 4 4 4 4 4 4 4 4 4 0 0 0 0 0 0 0 0 0\n",
            " 0 0 0 0 0 0 0 2 2 2 2 2 2 2 2 2 2 2 2 2 2 2 2 2 2 2 2 3 3 3 3 3 3 3 3 3 3\n",
            " 3 3 3 3 3 3 3 3 3 3 5 5 5 5]\n"
          ],
          "name": "stdout"
        }
      ]
    },
    {
      "cell_type": "code",
      "metadata": {
        "id": "AvwMxn_UZnza"
      },
      "source": [
        "from sklearn.model_selection import train_test_split\n",
        "x_train, x_test, y_train, y_test = train_test_split(x, y, test_size=0.2, random_state=1)"
      ],
      "execution_count": 142,
      "outputs": []
    },
    {
      "cell_type": "code",
      "metadata": {
        "colab": {
          "base_uri": "https://localhost:8080/"
        },
        "id": "Q0BpcKUCZvPK",
        "outputId": "aafec38a-4ecc-4f1b-e487-8d8f40e720aa"
      },
      "source": [
        "print(x_train)"
      ],
      "execution_count": 143,
      "outputs": [
        {
          "output_type": "stream",
          "text": [
            "[[2016 1 'Kembangan' 16 0]\n",
            " [2016 1 'Ciracas' 30 0]\n",
            " [2016 1 'Jagakarsa' 41 0]\n",
            " [2016 2 'Kelapa Gading' 15 0]\n",
            " [2016 1 'Pulo Gadung' 42 0]\n",
            " [2016 2 'Kebon Jeruk' 5 0]\n",
            " [2016 2 'Kalideres' 14 0]\n",
            " [2016 1 'Kalideres' 28 0]\n",
            " [2016 1 'Cilandak' 23 0]\n",
            " [2016 1 'Pasar Rebo' 16 0]\n",
            " [2016 1 'Tebet' 36 1]\n",
            " [2016 1 'Cipayung' 14 0]\n",
            " [2016 1 'Kebon Jeruk' 13 0]\n",
            " [2016 1 'Taman Sari' 12 0]\n",
            " [2016 1 'Kebayoran Baru' 28 0]\n",
            " [2016 2 'Pademangan' 4 0]\n",
            " [2016 1 'Kramat Jati' 29 0]\n",
            " [2016 2 'Tambora' 5 0]\n",
            " [2016 1 'Pesanggrahan' 15 0]\n",
            " [2016 2 'Tanah Abang' 4 0]\n",
            " [2016 2 'Makasar' 9 0]\n",
            " [2016 2 'Pasar Rebo' 16 0]\n",
            " [2016 1 'Tanjung Priok' 26 0]\n",
            " [2016 1 'Kep. Seribu Utara' 0 0]\n",
            " [2016 2 'Pancoran' 5 0]\n",
            " [2016 1 'Johar Baru' 15 0]\n",
            " [2016 1 'Mampang Prapatan' 17 0]\n",
            " [2016 2 'Koja' 7 0]\n",
            " [2016 2 'Pulo Gadung' 14 1]\n",
            " [2016 2 'Gambir' 4 0]\n",
            " [2016 2 'Tebet' 12 0]\n",
            " [2016 1 'Grogol Petamburan' 32 0]\n",
            " [2016 1 'Pasar Minggu' 52 0]\n",
            " [2016 1 'Tambora' 6 0]\n",
            " [2016 2 'Jagakarsa' 12 0]\n",
            " [2016 2 'Kebayoran Lama' 29 0]\n",
            " [2016 2 'Cakung' 12 0]\n",
            " [2016 1 'Penjaringan' 32 0]\n",
            " [2016 1 'Menteng' 6 1]\n",
            " [2016 2 'Cilincing' 15 0]\n",
            " [2016 1 'Cempaka Putih' 10 0]\n",
            " [2016 1 'Matraman' 16 0]\n",
            " [2016 2 'Pasar Minggu' 21 0]\n",
            " [2016 1 'Pademangan' 10 0]\n",
            " [2016 2 'Setia Budi' 8 0]\n",
            " [2016 2 'Kemayoran' 7 0]\n",
            " [2016 1 'Kep. Seribu Selatan' 0 0]\n",
            " [2016 2 'Senen' 0 0]\n",
            " [2016 2 'Jatinegara' 20 0]\n",
            " [2016 1 'Tanah Abang' 10 0]\n",
            " [2016 2 'Cengkareng' 34 0]\n",
            " [2016 1 'Cengkareng' 57 0]\n",
            " [2016 2 'Sawah Besar' 4 0]\n",
            " [2016 1 'Kelapa Gading' 27 0]\n",
            " [2016 1 'Koja' 44 0]\n",
            " [2016 1 'Kebayoran Lama' 35 0]\n",
            " [2016 2 'Penjaringan' 2 0]\n",
            " [2016 1 'Kemayoran' 13 0]\n",
            " [2016 2 'Duren Sawit' 41 1]\n",
            " [2016 1 'Makasar' 12 0]\n",
            " [2016 2 'Cempaka Putih' 0 0]\n",
            " [2016 1 'Cilincing' 31 0]\n",
            " [2016 1 'Cakung' 22 0]\n",
            " [2016 2 'Matraman' 9 0]\n",
            " [2016 2 'Johar Baru' 4 0]\n",
            " [2016 2 'Kramat Jati' 20 0]\n",
            " [2016 2 'Menteng' 8 0]\n",
            " [2016 1 'Jatinegara' 23 0]\n",
            " [2016 1 'Senen' 9 0]\n",
            " [2016 2 'Kembangan' 4 0]]\n"
          ],
          "name": "stdout"
        }
      ]
    },
    {
      "cell_type": "code",
      "metadata": {
        "colab": {
          "base_uri": "https://localhost:8080/"
        },
        "id": "7aLW0YCDZzSc",
        "outputId": "384b6df7-57cd-4a75-fdd6-15d6c873480a"
      },
      "source": [
        "print(x_test)"
      ],
      "execution_count": 144,
      "outputs": [
        {
          "output_type": "stream",
          "text": [
            "[[2016 1 'Setia Budi' 24 0]\n",
            " [2016 2 'Ciracas' 20 0]\n",
            " [2016 2 'Mampang Prapatan' 8 0]\n",
            " [2016 1 'Pancoran' 19 0]\n",
            " [2016 1 'Duren Sawit' 45 0]\n",
            " [2016 2 'Kep. Seribu Selatan' 0 0]\n",
            " [2016 2 'Pesanggrahan' 11 0]\n",
            " [2016 2 'Taman Sari' 4 0]\n",
            " [2016 2 'Cilandak' 20 0]\n",
            " [2016 1 'Palmerah' 21 0]\n",
            " [2016 2 'Palmerah' 8 0]\n",
            " [2016 2 'Grogol Petamburan' 20 0]\n",
            " [2016 2 'Cipayung' 21 0]\n",
            " [2016 2 'Tanjung Priok' 6 0]\n",
            " [2016 2 'Kep. Seribu Utara' 0 0]\n",
            " [2016 2 'Kebayoran Baru' 4 0]\n",
            " [2016 1 'Sawah Besar' 18 0]\n",
            " [2016 1 'Gambir' 5 0]]\n"
          ],
          "name": "stdout"
        }
      ]
    },
    {
      "cell_type": "code",
      "metadata": {
        "colab": {
          "base_uri": "https://localhost:8080/"
        },
        "id": "IN9Dr4WtZ4NF",
        "outputId": "bf5fae99-64ca-4e74-b5b9-9512f63eb364"
      },
      "source": [
        "print(y_train)"
      ],
      "execution_count": 145,
      "outputs": [
        {
          "output_type": "stream",
          "text": [
            "[['Jakarta Barat']\n",
            " ['Jakarta Timur']\n",
            " ['Jakarta Selatan']\n",
            " ['Jakarta Utara']\n",
            " ['Jakarta Timur']\n",
            " ['Jakarta Barat']\n",
            " ['Jakarta Barat']\n",
            " ['Jakarta Barat']\n",
            " ['Jakarta Selatan']\n",
            " ['Jakarta Timur']\n",
            " ['Jakarta Selatan']\n",
            " ['Jakarta Timur']\n",
            " ['Jakarta Barat']\n",
            " ['Jakarta Barat']\n",
            " ['Jakarta Selatan']\n",
            " ['Jakarta Utara']\n",
            " ['Jakarta Timur']\n",
            " ['Jakarta Barat']\n",
            " ['Jakarta Selatan']\n",
            " ['Jakarta Pusat']\n",
            " ['Jakarta Timur']\n",
            " ['Jakarta Timur']\n",
            " ['Jakarta Utara']\n",
            " ['Kabupaten Kepulauan Seribu']\n",
            " ['Jakarta Selatan']\n",
            " ['Jakarta Pusat']\n",
            " ['Jakarta Selatan']\n",
            " ['Jakarta Utara']\n",
            " ['Jakarta Timur']\n",
            " ['Jakarta Pusat']\n",
            " ['Jakarta Selatan']\n",
            " ['Jakarta Barat']\n",
            " ['Jakarta Selatan']\n",
            " ['Jakarta Barat']\n",
            " ['Jakarta Selatan']\n",
            " ['Jakarta Selatan']\n",
            " ['Jakarta Timur']\n",
            " ['Jakarta Utara']\n",
            " ['Jakarta Pusat']\n",
            " ['Jakarta Utara']\n",
            " ['Jakarta Pusat']\n",
            " ['Jakarta Timur']\n",
            " ['Jakarta Selatan']\n",
            " ['Jakarta Utara']\n",
            " ['Jakarta Selatan']\n",
            " ['Jakarta Pusat']\n",
            " ['Kabupaten Kepulauan Seribu']\n",
            " ['Jakarta Pusat']\n",
            " ['Jakarta Timur']\n",
            " ['Jakarta Pusat']\n",
            " ['Jakarta Barat']\n",
            " ['Jakarta Barat']\n",
            " ['Jakarta Pusat']\n",
            " ['Jakarta Utara']\n",
            " ['Jakarta Utara']\n",
            " ['Jakarta Selatan']\n",
            " ['Jakarta Utara']\n",
            " ['Jakarta Pusat']\n",
            " ['Jakarta Timur']\n",
            " ['Jakarta Timur']\n",
            " ['Jakarta Pusat']\n",
            " ['Jakarta Utara']\n",
            " ['Jakarta Timur']\n",
            " ['Jakarta Timur']\n",
            " ['Jakarta Pusat']\n",
            " ['Jakarta Timur']\n",
            " ['Jakarta Pusat']\n",
            " ['Jakarta Timur']\n",
            " ['Jakarta Pusat']\n",
            " ['Jakarta Barat']]\n"
          ],
          "name": "stdout"
        }
      ]
    },
    {
      "cell_type": "code",
      "metadata": {
        "colab": {
          "base_uri": "https://localhost:8080/"
        },
        "id": "yuPWY7thZ-Jk",
        "outputId": "903865a5-3367-4055-8dc5-587cddec92c5"
      },
      "source": [
        "print(y_test)"
      ],
      "execution_count": 146,
      "outputs": [
        {
          "output_type": "stream",
          "text": [
            "[['Jakarta Selatan']\n",
            " ['Jakarta Timur']\n",
            " ['Jakarta Selatan']\n",
            " ['Jakarta Selatan']\n",
            " ['Jakarta Timur']\n",
            " ['Kabupaten Kepulauan Seribu']\n",
            " ['Jakarta Selatan']\n",
            " ['Jakarta Barat']\n",
            " ['Jakarta Selatan']\n",
            " ['Jakarta Barat']\n",
            " ['Jakarta Barat']\n",
            " ['Jakarta Barat']\n",
            " ['Jakarta Timur']\n",
            " ['Jakarta Utara']\n",
            " ['Kabupaten Kepulauan Seribu']\n",
            " ['Jakarta Selatan']\n",
            " ['Jakarta Pusat']\n",
            " ['Jakarta Pusat']]\n"
          ],
          "name": "stdout"
        }
      ]
    },
    {
      "cell_type": "code",
      "metadata": {
        "id": "vbLkdhprpnCU"
      },
      "source": [
        "from sklearn.preprocessing import StandardScaler\n",
        "sc = StandardScaler()\n",
        "x_train[:, 3:] = sc.fit_transform(x_train[:, 3:])\n",
        "x_test[:, 3:] = sc.transform(x_test[:, 3:])"
      ],
      "execution_count": 147,
      "outputs": []
    },
    {
      "cell_type": "code",
      "metadata": {
        "colab": {
          "base_uri": "https://localhost:8080/"
        },
        "id": "CWhjXGX1pqli",
        "outputId": "23011104-c5e0-4e1f-b870-61230127ae52"
      },
      "source": [
        "print(x_train)"
      ],
      "execution_count": 148,
      "outputs": [
        {
          "output_type": "stream",
          "text": [
            "[[2016 1 'Kembangan' -0.10067815026624428 -0.2461829819586654]\n",
            " [2016 1 'Ciracas' 0.9717630156133154 -0.2461829819586654]\n",
            " [2016 1 'Jagakarsa' 1.8143953602329692 -0.2461829819586654]\n",
            " [2016 2 'Kelapa Gading' -0.17728109068621284 -0.2461829819586654]\n",
            " [2016 1 'Pulo Gadung' 1.8909983006529378 -0.2461829819586654]\n",
            " [2016 2 'Kebon Jeruk' -0.9433104948858982 -0.2461829819586654]\n",
            " [2016 2 'Kalideres' -0.25388403110618135 -0.2461829819586654]\n",
            " [2016 1 'Kalideres' 0.8185571347733782 -0.2461829819586654]\n",
            " [2016 1 'Cilandak' 0.43554243267353554 -0.2461829819586654]\n",
            " [2016 1 'Pasar Rebo' -0.10067815026624428 -0.2461829819586654]\n",
            " [2016 1 'Tebet' 1.4313806581331265 4.062019202317979]\n",
            " [2016 1 'Cipayung' -0.25388403110618135 -0.2461829819586654]\n",
            " [2016 1 'Kebon Jeruk' -0.3304869715261499 -0.2461829819586654]\n",
            " [2016 1 'Taman Sari' -0.40708991194611843 -0.2461829819586654]\n",
            " [2016 1 'Kebayoran Baru' 0.8185571347733782 -0.2461829819586654]\n",
            " [2016 2 'Pademangan' -1.0199134353058668 -0.2461829819586654]\n",
            " [2016 1 'Kramat Jati' 0.8951600751933467 -0.2461829819586654]\n",
            " [2016 2 'Tambora' -0.9433104948858982 -0.2461829819586654]\n",
            " [2016 1 'Pesanggrahan' -0.17728109068621284 -0.2461829819586654]\n",
            " [2016 2 'Tanah Abang' -1.0199134353058668 -0.2461829819586654]\n",
            " [2016 2 'Makasar' -0.6368987332060241 -0.2461829819586654]\n",
            " [2016 2 'Pasar Rebo' -0.10067815026624428 -0.2461829819586654]\n",
            " [2016 1 'Tanjung Priok' 0.6653512539334412 -0.2461829819586654]\n",
            " [2016 1 'Kep. Seribu Utara' -1.326325196985741 -0.2461829819586654]\n",
            " [2016 2 'Pancoran' -0.9433104948858982 -0.2461829819586654]\n",
            " [2016 1 'Johar Baru' -0.17728109068621284 -0.2461829819586654]\n",
            " [2016 1 'Mampang Prapatan' -0.02407520984627574 -0.2461829819586654]\n",
            " [2016 2 'Koja' -0.7901046140459612 -0.2461829819586654]\n",
            " [2016 2 'Pulo Gadung' -0.25388403110618135 4.062019202317979]\n",
            " [2016 2 'Gambir' -1.0199134353058668 -0.2461829819586654]\n",
            " [2016 2 'Tebet' -0.40708991194611843 -0.2461829819586654]\n",
            " [2016 1 'Grogol Petamburan' 1.1249688964532525 -0.2461829819586654]\n",
            " [2016 1 'Pasar Minggu' 2.657027704852623 -0.2461829819586654]\n",
            " [2016 1 'Tambora' -0.8667075544659297 -0.2461829819586654]\n",
            " [2016 2 'Jagakarsa' -0.40708991194611843 -0.2461829819586654]\n",
            " [2016 2 'Kebayoran Lama' 0.8951600751933467 -0.2461829819586654]\n",
            " [2016 2 'Cakung' -0.40708991194611843 -0.2461829819586654]\n",
            " [2016 1 'Penjaringan' 1.1249688964532525 -0.2461829819586654]\n",
            " [2016 1 'Menteng' -0.8667075544659297 4.062019202317979]\n",
            " [2016 2 'Cilincing' -0.17728109068621284 -0.2461829819586654]\n",
            " [2016 1 'Cempaka Putih' -0.5602957927860556 -0.2461829819586654]\n",
            " [2016 1 'Matraman' -0.10067815026624428 -0.2461829819586654]\n",
            " [2016 2 'Pasar Minggu' 0.2823365518335984 -0.2461829819586654]\n",
            " [2016 1 'Pademangan' -0.5602957927860556 -0.2461829819586654]\n",
            " [2016 2 'Setia Budi' -0.7135016736259926 -0.2461829819586654]\n",
            " [2016 2 'Kemayoran' -0.7901046140459612 -0.2461829819586654]\n",
            " [2016 1 'Kep. Seribu Selatan' -1.326325196985741 -0.2461829819586654]\n",
            " [2016 2 'Senen' -1.326325196985741 -0.2461829819586654]\n",
            " [2016 2 'Jatinegara' 0.2057336114136299 -0.2461829819586654]\n",
            " [2016 1 'Tanah Abang' -0.5602957927860556 -0.2461829819586654]\n",
            " [2016 2 'Cengkareng' 1.2781747772931895 -0.2461829819586654]\n",
            " [2016 1 'Cengkareng' 3.0400424069524656 -0.2461829819586654]\n",
            " [2016 2 'Sawah Besar' -1.0199134353058668 -0.2461829819586654]\n",
            " [2016 1 'Kelapa Gading' 0.7419541943534097 -0.2461829819586654]\n",
            " [2016 1 'Koja' 2.044204181492875 -0.2461829819586654]\n",
            " [2016 1 'Kebayoran Lama' 1.3547777177131581 -0.2461829819586654]\n",
            " [2016 2 'Penjaringan' -1.173119316145804 -0.2461829819586654]\n",
            " [2016 1 'Kemayoran' -0.3304869715261499 -0.2461829819586654]\n",
            " [2016 2 'Duren Sawit' 1.8143953602329692 4.062019202317979]\n",
            " [2016 1 'Makasar' -0.40708991194611843 -0.2461829819586654]\n",
            " [2016 2 'Cempaka Putih' -1.326325196985741 -0.2461829819586654]\n",
            " [2016 1 'Cilincing' 1.0483659560332839 -0.2461829819586654]\n",
            " [2016 1 'Cakung' 0.35893949225356697 -0.2461829819586654]\n",
            " [2016 2 'Matraman' -0.6368987332060241 -0.2461829819586654]\n",
            " [2016 2 'Johar Baru' -1.0199134353058668 -0.2461829819586654]\n",
            " [2016 2 'Kramat Jati' 0.2057336114136299 -0.2461829819586654]\n",
            " [2016 2 'Menteng' -0.7135016736259926 -0.2461829819586654]\n",
            " [2016 1 'Jatinegara' 0.43554243267353554 -0.2461829819586654]\n",
            " [2016 1 'Senen' -0.6368987332060241 -0.2461829819586654]\n",
            " [2016 2 'Kembangan' -1.0199134353058668 -0.2461829819586654]]\n"
          ],
          "name": "stdout"
        }
      ]
    },
    {
      "cell_type": "code",
      "metadata": {
        "colab": {
          "base_uri": "https://localhost:8080/"
        },
        "id": "Sc4GKjVLpugr",
        "outputId": "9878241e-149b-42da-b92e-248f52581713"
      },
      "source": [
        "print(x_test)"
      ],
      "execution_count": 149,
      "outputs": [
        {
          "output_type": "stream",
          "text": [
            "[[2016 1 'Setia Budi' 0.512145373093504 -0.2461829819586654]\n",
            " [2016 2 'Ciracas' 0.2057336114136299 -0.2461829819586654]\n",
            " [2016 2 'Mampang Prapatan' -0.7135016736259926 -0.2461829819586654]\n",
            " [2016 1 'Pancoran' 0.12913067099366135 -0.2461829819586654]\n",
            " [2016 1 'Duren Sawit' 2.1208071219128435 -0.2461829819586654]\n",
            " [2016 2 'Kep. Seribu Selatan' -1.326325196985741 -0.2461829819586654]\n",
            " [2016 2 'Pesanggrahan' -0.483692852366087 -0.2461829819586654]\n",
            " [2016 2 'Taman Sari' -1.0199134353058668 -0.2461829819586654]\n",
            " [2016 2 'Cilandak' 0.2057336114136299 -0.2461829819586654]\n",
            " [2016 1 'Palmerah' 0.2823365518335984 -0.2461829819586654]\n",
            " [2016 2 'Palmerah' -0.7135016736259926 -0.2461829819586654]\n",
            " [2016 2 'Grogol Petamburan' 0.2057336114136299 -0.2461829819586654]\n",
            " [2016 2 'Cipayung' 0.2823365518335984 -0.2461829819586654]\n",
            " [2016 2 'Tanjung Priok' -0.8667075544659297 -0.2461829819586654]\n",
            " [2016 2 'Kep. Seribu Utara' -1.326325196985741 -0.2461829819586654]\n",
            " [2016 2 'Kebayoran Baru' -1.0199134353058668 -0.2461829819586654]\n",
            " [2016 1 'Sawah Besar' 0.0525277305736928 -0.2461829819586654]\n",
            " [2016 1 'Gambir' -0.9433104948858982 -0.2461829819586654]]\n"
          ],
          "name": "stdout"
        }
      ]
    }
  ]
}