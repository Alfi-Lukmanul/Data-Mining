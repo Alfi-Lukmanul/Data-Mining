{
  "nbformat": 4,
  "nbformat_minor": 0,
  "metadata": {
    "colab": {
      "name": "PRa UAS.ipynb",
      "provenance": [],
      "collapsed_sections": [],
      "authorship_tag": "ABX9TyMwArWsEGrI75hCyS2XZNAO",
      "include_colab_link": true
    },
    "kernelspec": {
      "name": "python3",
      "display_name": "Python 3"
    },
    "language_info": {
      "name": "python"
    }
  },
  "cells": [
    {
      "cell_type": "markdown",
      "metadata": {
        "id": "view-in-github",
        "colab_type": "text"
      },
      "source": [
        "<a href=\"https://colab.research.google.com/github/Alfi-Lukmanul/Data-Mining/blob/main/PRa_UAS.ipynb\" target=\"_parent\"><img src=\"https://colab.research.google.com/assets/colab-badge.svg\" alt=\"Open In Colab\"/></a>"
      ]
    },
    {
      "cell_type": "code",
      "metadata": {
        "id": "VH0VgNHcr1B9"
      },
      "source": [
        "import numpy as np\n",
        "import matplotlib.pyplot as plt\n",
        "import pandas as pd"
      ],
      "execution_count": 35,
      "outputs": []
    },
    {
      "cell_type": "markdown",
      "metadata": {
        "id": "yRyl067g_-jm"
      },
      "source": [
        "Numpy digunakan untuk komputasi data. Matlotlib befungsi menjadikan grafik. Pandas berfungsi mengimport data dari luar, contoh csv."
      ]
    },
    {
      "cell_type": "code",
      "metadata": {
        "id": "kyDntgxptu4S"
      },
      "source": [
        "dataset = pd.read_csv('heart.csv')\n",
        "x = dataset.iloc[:, [4,6]].values\n",
        "y = dataset.iloc[:, -1].values"
      ],
      "execution_count": 36,
      "outputs": []
    },
    {
      "cell_type": "code",
      "metadata": {
        "id": "6lQrn-Lh9kh1"
      },
      "source": [
        "from sklearn.model_selection import train_test_split\n",
        "x_train, x_test, y_train, y_test= train_test_split(x,y, test_size=0.20, random_state=0)"
      ],
      "execution_count": 37,
      "outputs": []
    },
    {
      "cell_type": "markdown",
      "metadata": {
        "id": "fj9xNZ_aAuF2"
      },
      "source": [
        "melatih model dengan train_test split dengan test size 20% atau +- 60"
      ]
    },
    {
      "cell_type": "code",
      "metadata": {
        "id": "PmhtfkfI9pdI"
      },
      "source": [
        "from sklearn.preprocessing import StandardScaler\n",
        "sc = StandardScaler()\n",
        "x_train = sc.fit_transform(x_train)\n",
        "x_test = sc.transform(x_test)"
      ],
      "execution_count": 38,
      "outputs": []
    },
    {
      "cell_type": "markdown",
      "metadata": {
        "id": "_0G6bgTrAopv"
      },
      "source": [
        "Standard Scaler , menskalakan setiap fitur/variabel ke varians unit."
      ]
    },
    {
      "cell_type": "code",
      "metadata": {
        "colab": {
          "base_uri": "https://localhost:8080/"
        },
        "id": "0570fQxc9vzN",
        "outputId": "2828ec4d-00bb-4a52-ad00-5ea5ceb2ccd3"
      },
      "source": [
        "from sklearn.naive_bayes import GaussianNB\n",
        "classifier = GaussianNB()\n",
        "classifier.fit(x_train, y_train)"
      ],
      "execution_count": 39,
      "outputs": [
        {
          "output_type": "execute_result",
          "data": {
            "text/plain": [
              "GaussianNB(priors=None, var_smoothing=1e-09)"
            ]
          },
          "metadata": {
            "tags": []
          },
          "execution_count": 39
        }
      ]
    },
    {
      "cell_type": "code",
      "metadata": {
        "id": "F3HpMIn6Bv2j"
      },
      "source": [
        "GausianNB adalah fungsinya "
      ],
      "execution_count": null,
      "outputs": []
    },
    {
      "cell_type": "code",
      "metadata": {
        "id": "6xwF74c89yXI"
      },
      "source": [
        "y_pred = classifier.predict(x_test)"
      ],
      "execution_count": 40,
      "outputs": []
    },
    {
      "cell_type": "code",
      "metadata": {
        "colab": {
          "base_uri": "https://localhost:8080/"
        },
        "id": "wqlPL3Qw9-LB",
        "outputId": "173a9dbe-6621-4b97-fd34-fc53341296c3"
      },
      "source": [
        "from sklearn.metrics import confusion_matrix\n",
        "cm = confusion_matrix(y_test, y_pred)\n",
        "print(cm)"
      ],
      "execution_count": 41,
      "outputs": [
        {
          "output_type": "stream",
          "text": [
            "[[13 14]\n",
            " [ 7 27]]\n"
          ],
          "name": "stdout"
        }
      ]
    },
    {
      "cell_type": "markdown",
      "metadata": {
        "id": "KnW_Ykp6CL8i"
      },
      "source": [
        "Confusion matrix untuk mengetahui seberapa akurat metode yang kita gunakan"
      ]
    },
    {
      "cell_type": "code",
      "metadata": {
        "colab": {
          "base_uri": "https://localhost:8080/",
          "height": 352
        },
        "id": "pKpslzFi-REV",
        "outputId": "0eb6f0c1-e016-4b87-ab50-f1b3b6fe8980"
      },
      "source": [
        "from matplotlib.colors import ListedColormap\n",
        "x_set, y_set = x_train, y_train\n",
        "x1, x2 = np.meshgrid(np.arange(start=x_set[:,0].min()-1,stop = x_set[:,0].max() + 1, step=0.01),\n",
        "                     np.arange(start=x_set[:,1].min()-1,stop = x_set[:,0].max() + 1, step=0.01))\n",
        "plt.contourf(x1,x2, classifier.predict(np.array([x1.ravel(),x2.ravel()]).T).reshape(x1.shape),\n",
        "             alpha = 0.75,cmap=ListedColormap(('red','green')))\n",
        "plt.xlim(x1.min(),x1.max())\n",
        "plt.ylim(x2.min(),x2.max())\n",
        "for i, j in enumerate (np.unique(y_set)):\n",
        "  plt.scatter(x_set[y_set == j, 0], x_set[y_set==j, 1],\n",
        "              c = ListedColormap(('red','green'))(i),label=j)\n",
        "plt.title('Klasifikasi Data dengan Naive Bayes Untuk Data Training')\n",
        "plt.xlabel('Umur')\n",
        "plt.ylabel('Estimasi Gaji')\n",
        "plt.legend()\n",
        "plt.show()"
      ],
      "execution_count": 42,
      "outputs": [
        {
          "output_type": "stream",
          "text": [
            "*c* argument looks like a single numeric RGB or RGBA sequence, which should be avoided as value-mapping will have precedence in case its length matches with *x* & *y*.  Please use the *color* keyword-argument or provide a 2-D array with a single row if you intend to specify the same RGB or RGBA value for all points.\n",
            "*c* argument looks like a single numeric RGB or RGBA sequence, which should be avoided as value-mapping will have precedence in case its length matches with *x* & *y*.  Please use the *color* keyword-argument or provide a 2-D array with a single row if you intend to specify the same RGB or RGBA value for all points.\n"
          ],
          "name": "stderr"
        },
        {
          "output_type": "display_data",
          "data": {
            "image/png": "[encoded data removed]",
            "text/plain": [
              "<Figure size 432x288 with 1 Axes>"
            ]
          },
          "metadata": {
            "tags": [],
            "needs_background": "light"
          }
        }
      ]
    },
    {
      "cell_type": "code",
      "metadata": {
        "colab": {
          "base_uri": "https://localhost:8080/",
          "height": 352
        },
        "id": "63HRxhLM-ndB",
        "outputId": "1622c98b-4b1e-4f81-cfc3-d14e3848e4c2"
      },
      "source": [
        "from matplotlib.colors import ListedColormap\n",
        "x_set, y_set = x_test, y_test\n",
        "x1, x2 = np.meshgrid(np.arange(start=x_set[:,0].min()-1,stop = x_set[:,0].max() + 1, step=0.01),\n",
        "                     np.arange(start=x_set[:,1].min()-1,stop = x_set[:,0].max() + 1, step=0.01))\n",
        "plt.contourf(x1,x2, classifier.predict(np.array([x1.ravel(),x2.ravel()]).T).reshape(x1.shape),\n",
        "             alpha = 0.75,cmap=ListedColormap(('red','green')))\n",
        "plt.xlim(x1.min(),x1.max())\n",
        "plt.ylim(x2.min(),x2.max())\n",
        "for i, j in enumerate (np.unique(y_set)):\n",
        "  plt.scatter(x_set[y_set == j, 0], x_set[y_set==j, 1],\n",
        "              c = ListedColormap(('red','green'))(i),label=j)\n",
        "plt.title('Klasifikasi Data dengan Naive Bayes Untuk Data Testing')\n",
        "plt.xlabel('Umur')\n",
        "plt.ylabel('Estimasi Gaji')\n",
        "plt.legend()\n",
        "plt.show()"
      ],
      "execution_count": 18,
      "outputs": [
        {
          "output_type": "stream",
          "text": [
            "*c* argument looks like a single numeric RGB or RGBA sequence, which should be avoided as value-mapping will have precedence in case its length matches with *x* & *y*.  Please use the *color* keyword-argument or provide a 2-D array with a single row if you intend to specify the same RGB or RGBA value for all points.\n",
            "*c* argument looks like a single numeric RGB or RGBA sequence, which should be avoided as value-mapping will have precedence in case its length matches with *x* & *y*.  Please use the *color* keyword-argument or provide a 2-D array with a single row if you intend to specify the same RGB or RGBA value for all points.\n"
          ],
          "name": "stderr"
        },
        {
          "output_type": "display_data",
          "data": {
            "image/png": "[encoded data removed]",
            "text/plain": [
              "<Figure size 432x288 with 1 Axes>"
            ]
          },
          "metadata": {
            "tags": [],
            "needs_background": "light"
          }
        }
      ]
    }
  ]
}