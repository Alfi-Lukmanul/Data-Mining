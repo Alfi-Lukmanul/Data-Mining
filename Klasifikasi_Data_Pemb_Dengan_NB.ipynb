{
  "nbformat": 4,
  "nbformat_minor": 0,
  "metadata": {
    "colab": {
      "name": "Klasifikasi Data Pemb Dengan NB.ipynb",
      "provenance": [],
      "authorship_tag": "ABX9TyOm1+P14vFS2T8j77f4FmNv",
      "include_colab_link": true
    },
    "kernelspec": {
      "name": "python3",
      "display_name": "Python 3"
    },
    "language_info": {
      "name": "python"
    }
  },
  "cells": [
    {
      "cell_type": "markdown",
      "metadata": {
        "id": "view-in-github",
        "colab_type": "text"
      },
      "source": [
        "<a href=\"https://colab.research.google.com/github/Alfi-Lukmanul/Data-Mining/blob/main/Klasifikasi_Data_Pemb_Dengan_NB.ipynb\" target=\"_parent\"><img src=\"https://colab.research.google.com/assets/colab-badge.svg\" alt=\"Open In Colab\"/></a>"
      ]
    },
    {
      "cell_type": "code",
      "metadata": {
        "id": "gW1g_aLDsW-8"
      },
      "source": [
        "import numpy as np\n",
        "import matplotlib.pyplot as plt\n",
        "import pandas as pd"
      ],
      "execution_count": 1,
      "outputs": []
    },
    {
      "cell_type": "code",
      "metadata": {
        "id": "s_tIRW1fsyo7"
      },
      "source": [
        "dataset = pd.read_csv(\"Dataset Pembeli Negara - 1.csv\")\n",
        "x = dataset.iloc[:,[1,2]].values\n",
        "y = dataset.iloc[:,-1].values"
      ],
      "execution_count": 2,
      "outputs": []
    },
    {
      "cell_type": "code",
      "metadata": {
        "colab": {
          "base_uri": "https://localhost:8080/"
        },
        "id": "_SzfsruCs_MS",
        "outputId": "34905c37-cb02-41c0-d0fa-7161177cdad2"
      },
      "source": [
        "print(x)"
      ],
      "execution_count": 3,
      "outputs": [
        {
          "output_type": "stream",
          "text": [
            "[[   44 72000]\n",
            " [   27 48000]\n",
            " [   30 54000]\n",
            " [   38 61000]\n",
            " [   40 50000]\n",
            " [   35 58000]\n",
            " [   42 36000]\n",
            " [   48 89000]\n",
            " [   50 67000]\n",
            " [   37 83000]\n",
            " [   29 42000]\n",
            " [   46 45000]\n",
            " [   35 36000]\n",
            " [   36 40000]\n",
            " [   34 32000]\n",
            " [   29 40000]\n",
            " [   30 45000]\n",
            " [   45 55000]\n",
            " [   40 50000]\n",
            " [   26 39000]\n",
            " [   19 40000]\n",
            " [   33 50000]\n",
            " [   37 55000]\n",
            " [   38 46000]\n",
            " [   26 44000]\n",
            " [   30 35000]\n",
            " [   50 67000]\n",
            " [   38 58000]\n",
            " [   47 55000]\n",
            " [   26 32000]\n",
            " [   32 41000]\n",
            " [   39 57000]\n",
            " [   38 47000]\n",
            " [   44 68000]\n",
            " [   42 36000]\n",
            " [   40 25000]\n",
            " [   22 41000]\n",
            " [   35 58000]\n",
            " [   28 60000]\n",
            " [   45 75000]\n",
            " [   47 77000]\n",
            " [   21 36000]\n",
            " [   26 40000]\n",
            " [   33 50000]\n",
            " [   31 53000]\n",
            " [   39 74000]\n",
            " [   37 64000]\n",
            " [   38 35000]\n",
            " [   40 58000]]\n"
          ],
          "name": "stdout"
        }
      ]
    },
    {
      "cell_type": "code",
      "metadata": {
        "colab": {
          "base_uri": "https://localhost:8080/"
        },
        "id": "Z2XWzwuMtB8c",
        "outputId": "cb8bffeb-fb96-4815-ee4b-4e58b6505989"
      },
      "source": [
        "print(y)"
      ],
      "execution_count": 4,
      "outputs": [
        {
          "output_type": "stream",
          "text": [
            "[0 1 0 0 1 1 0 1 1 1 0 1 0 1 0 1 0 0 1 1 0 1 1 1 0 1 1 0 1 0 1 1 1 1 0 0 0\n",
            " 1 0 1 1 0 1 0 1 1 1 0 1]\n"
          ],
          "name": "stdout"
        }
      ]
    },
    {
      "cell_type": "code",
      "metadata": {
        "id": "td-nxwzGtDzo"
      },
      "source": [
        "from sklearn.model_selection import train_test_split\n",
        "x_train, x_test, y_train, y_test= train_test_split(x,y, test_size=0.20, random_state=0)"
      ],
      "execution_count": 5,
      "outputs": []
    },
    {
      "cell_type": "code",
      "metadata": {
        "id": "KEIPlA7Ptmqv"
      },
      "source": [
        "print(x_train)\n",
        "print(x_test)\n",
        "print(y_train)\n",
        "print(y_test)"
      ],
      "execution_count": null,
      "outputs": []
    },
    {
      "cell_type": "code",
      "metadata": {
        "id": "VaLtLCX5ttbo"
      },
      "source": [
        "from sklearn.preprocessing import StandardScaler\n",
        "sc = StandardScaler()\n",
        "x_train = sc.fit_transform(x_train)\n",
        "x_test = sc.transform(x_test)\n"
      ],
      "execution_count": 7,
      "outputs": []
    },
    {
      "cell_type": "code",
      "metadata": {
        "colab": {
          "base_uri": "https://localhost:8080/"
        },
        "id": "dgqaMK2ctxGJ",
        "outputId": "b7d8d2bf-978e-4810-95be-9983c45d4f05"
      },
      "source": [
        "print(x_train)"
      ],
      "execution_count": 8,
      "outputs": [
        {
          "output_type": "stream",
          "text": [
            "[[ 1.44114802 -0.43637114]\n",
            " [ 0.50216613  0.47128083]\n",
            " [ 1.17286748  1.30329513]\n",
            " [ 0.36802587  0.54691849]\n",
            " [ 0.6363064   0.54691849]\n",
            " [-0.70509629  0.24436784]\n",
            " [ 0.2338856   1.00074448]\n",
            " [ 0.6363064  -0.05818282]\n",
            " [-0.83923655 -0.81455946]\n",
            " [ 1.57528829  0.3200055 ]\n",
            " [ 0.2338856   0.3200055 ]\n",
            " [-0.70509629 -0.43637114]\n",
            " [-1.91235871 -1.11711011]\n",
            " [-2.18063924 -0.81455946]\n",
            " [-1.24165736 -0.81455946]\n",
            " [ 1.97770909  1.22765747]\n",
            " [ 0.09974533 -0.81455946]\n",
            " [-0.70509629 -1.19274778]\n",
            " [-0.03439494  0.54691849]\n",
            " [ 1.30700775  0.3200055 ]\n",
            " [ 0.6363064  -1.94912441]\n",
            " [-0.16853521 -1.41966077]\n",
            " [-0.97337682  0.69819382]\n",
            " [-1.10751709 -0.20945815]\n",
            " [-0.03439494 -1.11711011]\n",
            " [-0.30267548 -0.05818282]\n",
            " [-1.24165736 -0.5120088 ]\n",
            " [ 0.90458694 -1.11711011]\n",
            " [ 0.36802587 -0.36073347]\n",
            " [-1.77821844 -0.73892179]\n",
            " [-0.30267548 -0.05818282]\n",
            " [-1.24165736 -0.89019712]\n",
            " [ 0.2338856   2.43786009]\n",
            " [ 1.30700775  1.83275878]\n",
            " [ 0.50216613  1.75712111]\n",
            " [ 0.36802587  0.77383148]\n",
            " [ 1.17286748  1.60584579]\n",
            " [ 0.36802587 -1.19274778]\n",
            " [-0.57095602  0.16873017]]\n"
          ],
          "name": "stdout"
        }
      ]
    },
    {
      "cell_type": "code",
      "metadata": {
        "colab": {
          "base_uri": "https://localhost:8080/"
        },
        "id": "xGRRC8P7t2NL",
        "outputId": "f64a8fe1-d8a4-4ad0-c16a-b7cffac8460b"
      },
      "source": [
        "print(x_test)"
      ],
      "execution_count": 9,
      "outputs": [
        {
          "output_type": "stream",
          "text": [
            "[[-1.24165736 -1.41966077]\n",
            " [ 0.6363064  -0.05818282]\n",
            " [ 1.97770909  1.22765747]\n",
            " [-0.43681575 -0.73892179]\n",
            " [ 0.36802587 -0.28509581]\n",
            " [-0.03439494  0.54691849]\n",
            " [ 0.90458694 -1.11711011]\n",
            " [ 1.57528829  1.98403411]\n",
            " [ 1.70942855  2.89168607]\n",
            " [-0.83923655 -0.66328413]]\n"
          ],
          "name": "stdout"
        }
      ]
    },
    {
      "cell_type": "code",
      "metadata": {
        "colab": {
          "base_uri": "https://localhost:8080/"
        },
        "id": "MxUzf6bYt8-P",
        "outputId": "f21920dd-7518-4ba1-a611-c0adc34df707"
      },
      "source": [
        "from sklearn.naive_bayes import GaussianNB\n",
        "classifier = GaussianNB()\n",
        "classifier.fit(x_train, y_train)"
      ],
      "execution_count": 10,
      "outputs": [
        {
          "output_type": "execute_result",
          "data": {
            "text/plain": [
              "GaussianNB(priors=None, var_smoothing=1e-09)"
            ]
          },
          "metadata": {
            "tags": []
          },
          "execution_count": 10
        }
      ]
    },
    {
      "cell_type": "code",
      "metadata": {
        "id": "K6w-oxDuuCQe"
      },
      "source": [
        "y_pred = classifier.predict(x_test)"
      ],
      "execution_count": 11,
      "outputs": []
    },
    {
      "cell_type": "code",
      "metadata": {
        "colab": {
          "base_uri": "https://localhost:8080/"
        },
        "id": "0tsUJgw1uFHE",
        "outputId": "307b1a41-bfcf-4b27-b4fc-efe3d0da04b4"
      },
      "source": [
        "from sklearn.metrics import confusion_matrix\n",
        "cm = confusion_matrix(y_test, y_pred)\n",
        "print(cm)"
      ],
      "execution_count": 12,
      "outputs": [
        {
          "output_type": "stream",
          "text": [
            "[[3 0]\n",
            " [1 6]]\n"
          ],
          "name": "stdout"
        }
      ]
    },
    {
      "cell_type": "code",
      "metadata": {
        "colab": {
          "base_uri": "https://localhost:8080/",
          "height": 352
        },
        "id": "ZwWdyu-cuRah",
        "outputId": "a23dde49-2f5e-4cc7-cbcd-d015d81bc52d"
      },
      "source": [
        "from matplotlib.colors import ListedColormap\n",
        "x_set, y_set = x_train, y_train\n",
        "x1, x2 = np.meshgrid(np.arange(start=x_set[:,0].min()-1,stop = x_set[:,0].max() + 1, step=0.01),\n",
        "                     np.arange(start=x_set[:,1].min()-1,stop = x_set[:,0].max() + 1, step=0.01))\n",
        "plt.contourf(x1,x2, classifier.predict(np.array([x1.ravel(),x2.ravel()]).T).reshape(x1.shape),\n",
        "             alpha = 0.75,cmap=ListedColormap(('red','green')))\n",
        "plt.xlim(x1.min(),x1.max())\n",
        "plt.ylim(x2.min(),x2.max())\n",
        "for i, j in enumerate (np.unique(y_set)):\n",
        "  plt.scatter(x_set[y_set == j, 0], x_set[y_set==j, 1],\n",
        "              c = ListedColormap(('red','green'))(i),label=j)\n",
        "plt.title('Klasifikasi Data dengan Naive Bayes Untuk Data Training')\n",
        "plt.xlabel('Umur')\n",
        "plt.ylabel('Estimasi Gaji')\n",
        "plt.legend()\n",
        "plt.show()"
      ],
      "execution_count": 15,
      "outputs": [
        {
          "output_type": "stream",
          "text": [
            "*c* argument looks like a single numeric RGB or RGBA sequence, which should be avoided as value-mapping will have precedence in case its length matches with *x* & *y*.  Please use the *color* keyword-argument or provide a 2-D array with a single row if you intend to specify the same RGB or RGBA value for all points.\n",
            "*c* argument looks like a single numeric RGB or RGBA sequence, which should be avoided as value-mapping will have precedence in case its length matches with *x* & *y*.  Please use the *color* keyword-argument or provide a 2-D array with a single row if you intend to specify the same RGB or RGBA value for all points.\n"
          ],
          "name": "stderr"
        },
        {
          "output_type": "display_data",
          "data": {
            "image/png": "[encoded data removed]",
            "text/plain": [
              "<Figure size 432x288 with 1 Axes>"
            ]
          },
          "metadata": {
            "tags": [],
            "needs_background": "light"
          }
        }
      ]
    },
    {
      "cell_type": "code",
      "metadata": {
        "colab": {
          "base_uri": "https://localhost:8080/",
          "height": 352
        },
        "id": "LD1HUlI-uuLj",
        "outputId": "bc5d7d1d-da2c-4a92-f476-3ca3c4a7cc4c"
      },
      "source": [
        "from matplotlib.colors import ListedColormap\n",
        "x_set, y_set = x_test, y_test\n",
        "x1, x2 = np.meshgrid(np.arange(start=x_set[:,0].min()-1,stop = x_set[:,0].max() + 1, step=0.01),\n",
        "                     np.arange(start=x_set[:,1].min()-1,stop = x_set[:,0].max() + 1, step=0.01))\n",
        "plt.contourf(x1,x2, classifier.predict(np.array([x1.ravel(),x2.ravel()]).T).reshape(x1.shape),\n",
        "             alpha = 0.75,cmap=ListedColormap(('red','green')))\n",
        "plt.xlim(x1.min(),x1.max())\n",
        "plt.ylim(x2.min(),x2.max())\n",
        "for i, j in enumerate (np.unique(y_set)):\n",
        "  plt.scatter(x_set[y_set == j, 0], x_set[y_set==j, 1],\n",
        "              c = ListedColormap(('red','green'))(i),label=j)\n",
        "plt.title('Klasifikasi Data dengan Naive Bayes Untuk Data Testing')\n",
        "plt.xlabel('Umur')\n",
        "plt.ylabel('Estimasi Gaji')\n",
        "plt.legend()\n",
        "plt.show()"
      ],
      "execution_count": 16,
      "outputs": [
        {
          "output_type": "stream",
          "text": [
            "*c* argument looks like a single numeric RGB or RGBA sequence, which should be avoided as value-mapping will have precedence in case its length matches with *x* & *y*.  Please use the *color* keyword-argument or provide a 2-D array with a single row if you intend to specify the same RGB or RGBA value for all points.\n",
            "*c* argument looks like a single numeric RGB or RGBA sequence, which should be avoided as value-mapping will have precedence in case its length matches with *x* & *y*.  Please use the *color* keyword-argument or provide a 2-D array with a single row if you intend to specify the same RGB or RGBA value for all points.\n"
          ],
          "name": "stderr"
        },
        {
          "output_type": "display_data",
          "data": {
            "image/png": "[encoded data removed]",
            "text/plain": [
              "<Figure size 432x288 with 1 Axes>"
            ]
          },
          "metadata": {
            "tags": [],
            "needs_background": "light"
          }
        }
      ]
    }
  ]
}