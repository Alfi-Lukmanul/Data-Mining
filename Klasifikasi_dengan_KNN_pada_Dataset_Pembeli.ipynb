{
  "nbformat": 4,
  "nbformat_minor": 0,
  "metadata": {
    "colab": {
      "name": "Klasifikasi dengan KNN pada Dataset Pembeli.ipynb",
      "provenance": [],
      "authorship_tag": "ABX9TyNby9tAw6D/C4SvwCJzrvwt",
      "include_colab_link": true
    },
    "kernelspec": {
      "name": "python3",
      "display_name": "Python 3"
    },
    "language_info": {
      "name": "python"
    }
  },
  "cells": [
    {
      "cell_type": "markdown",
      "metadata": {
        "id": "view-in-github",
        "colab_type": "text"
      },
      "source": [
        "<a href=\"https://colab.research.google.com/github/Alfi-Lukmanul/Data-Mining/blob/main/Klasifikasi_dengan_KNN_pada_Dataset_Pembeli.ipynb\" target=\"_parent\"><img src=\"https://colab.research.google.com/assets/colab-badge.svg\" alt=\"Open In Colab\"/></a>"
      ]
    },
    {
      "cell_type": "code",
      "metadata": {
        "id": "hxyGsKZToSzf"
      },
      "source": [
        "import numpy as np\n",
        "import matplotlib.pyplot as plt\n",
        "import pandas as pd"
      ],
      "execution_count": 2,
      "outputs": []
    },
    {
      "cell_type": "code",
      "metadata": {
        "id": "h1hgP7_Xpr37"
      },
      "source": [
        "dataset = pd.read_csv('Dataset Pembeli Negara - 1.csv')"
      ],
      "execution_count": 3,
      "outputs": []
    },
    {
      "cell_type": "code",
      "metadata": {
        "colab": {
          "base_uri": "https://localhost:8080/",
          "height": 206
        },
        "id": "Q7oCdxadpyTz",
        "outputId": "ff9f66af-c209-4b5b-a500-6cf9cb0f4b97"
      },
      "source": [
        "dataset.head()"
      ],
      "execution_count": 4,
      "outputs": [
        {
          "output_type": "execute_result",
          "data": {
            "text/html": [
              "<div>\n",
              "<style scoped>\n",
              "    .dataframe tbody tr th:only-of-type {\n",
              "        vertical-align: middle;\n",
              "    }\n",
              "\n",
              "    .dataframe tbody tr th {\n",
              "        vertical-align: top;\n",
              "    }\n",
              "\n",
              "    .dataframe thead th {\n",
              "        text-align: right;\n",
              "    }\n",
              "</style>\n",
              "<table border=\"1\" class=\"dataframe\">\n",
              "  <thead>\n",
              "    <tr style=\"text-align: right;\">\n",
              "      <th></th>\n",
              "      <th>Country</th>\n",
              "      <th>Age</th>\n",
              "      <th>Salary</th>\n",
              "      <th>Purchased</th>\n",
              "    </tr>\n",
              "  </thead>\n",
              "  <tbody>\n",
              "    <tr>\n",
              "      <th>0</th>\n",
              "      <td>France</td>\n",
              "      <td>44</td>\n",
              "      <td>72000</td>\n",
              "      <td>0</td>\n",
              "    </tr>\n",
              "    <tr>\n",
              "      <th>1</th>\n",
              "      <td>Spain</td>\n",
              "      <td>27</td>\n",
              "      <td>48000</td>\n",
              "      <td>1</td>\n",
              "    </tr>\n",
              "    <tr>\n",
              "      <th>2</th>\n",
              "      <td>Germany</td>\n",
              "      <td>30</td>\n",
              "      <td>54000</td>\n",
              "      <td>0</td>\n",
              "    </tr>\n",
              "    <tr>\n",
              "      <th>3</th>\n",
              "      <td>Spain</td>\n",
              "      <td>38</td>\n",
              "      <td>61000</td>\n",
              "      <td>0</td>\n",
              "    </tr>\n",
              "    <tr>\n",
              "      <th>4</th>\n",
              "      <td>France</td>\n",
              "      <td>40</td>\n",
              "      <td>50000</td>\n",
              "      <td>1</td>\n",
              "    </tr>\n",
              "  </tbody>\n",
              "</table>\n",
              "</div>"
            ],
            "text/plain": [
              "   Country  Age  Salary  Purchased\n",
              "0   France   44   72000          0\n",
              "1    Spain   27   48000          1\n",
              "2  Germany   30   54000          0\n",
              "3    Spain   38   61000          0\n",
              "4   France   40   50000          1"
            ]
          },
          "metadata": {
            "tags": []
          },
          "execution_count": 4
        }
      ]
    },
    {
      "cell_type": "code",
      "metadata": {
        "id": "cVKUYE8Qp8fQ"
      },
      "source": [
        "x = dataset.iloc[:,[1,2]].values\n",
        "y = dataset.iloc[:,-1].values"
      ],
      "execution_count": 5,
      "outputs": []
    },
    {
      "cell_type": "code",
      "metadata": {
        "colab": {
          "base_uri": "https://localhost:8080/"
        },
        "id": "8nGGeJA9qJWf",
        "outputId": "21c222e6-6f9b-45db-9b18-97d3e47eb3a5"
      },
      "source": [
        "print(x)"
      ],
      "execution_count": 6,
      "outputs": [
        {
          "output_type": "stream",
          "text": [
            "[[   44 72000]\n",
            " [   27 48000]\n",
            " [   30 54000]\n",
            " [   38 61000]\n",
            " [   40 50000]\n",
            " [   35 58000]\n",
            " [   42 36000]\n",
            " [   48 89000]\n",
            " [   50 67000]\n",
            " [   37 83000]\n",
            " [   29 42000]\n",
            " [   46 45000]\n",
            " [   35 36000]\n",
            " [   36 40000]\n",
            " [   34 32000]\n",
            " [   29 40000]\n",
            " [   30 45000]\n",
            " [   45 55000]\n",
            " [   40 50000]\n",
            " [   26 39000]\n",
            " [   19 40000]\n",
            " [   33 50000]\n",
            " [   37 55000]\n",
            " [   38 46000]\n",
            " [   26 44000]\n",
            " [   30 35000]\n",
            " [   50 67000]\n",
            " [   38 58000]\n",
            " [   47 55000]\n",
            " [   26 32000]\n",
            " [   32 41000]\n",
            " [   39 57000]\n",
            " [   38 47000]\n",
            " [   44 68000]\n",
            " [   42 36000]\n",
            " [   40 25000]\n",
            " [   22 41000]\n",
            " [   35 58000]\n",
            " [   28 60000]\n",
            " [   45 75000]\n",
            " [   47 77000]\n",
            " [   21 36000]\n",
            " [   26 40000]\n",
            " [   33 50000]\n",
            " [   31 53000]\n",
            " [   39 74000]\n",
            " [   37 64000]\n",
            " [   38 35000]\n",
            " [   40 58000]]\n"
          ],
          "name": "stdout"
        }
      ]
    },
    {
      "cell_type": "code",
      "metadata": {
        "id": "_99nTY8tqMf3"
      },
      "source": [
        "print(y)"
      ],
      "execution_count": null,
      "outputs": []
    },
    {
      "cell_type": "code",
      "metadata": {
        "id": "PVj2NaD_qPUU"
      },
      "source": [
        "from sklearn.model_selection import train_test_split\n",
        "x_train, x_test, y_train, y_test = train_test_split(x,y, test_size=0.2, random_state=0)"
      ],
      "execution_count": 7,
      "outputs": []
    },
    {
      "cell_type": "code",
      "metadata": {
        "id": "1lHBVP05qqCP"
      },
      "source": [
        "print(x_train)"
      ],
      "execution_count": null,
      "outputs": []
    },
    {
      "cell_type": "code",
      "metadata": {
        "id": "BbZKl7f-rIaB"
      },
      "source": [
        "len(x_train)"
      ],
      "execution_count": null,
      "outputs": []
    },
    {
      "cell_type": "code",
      "metadata": {
        "colab": {
          "base_uri": "https://localhost:8080/"
        },
        "id": "K-fWMjNBrMTJ",
        "outputId": "28895d8c-86a5-4372-aba1-b9730720cf91"
      },
      "source": [
        "len(x)"
      ],
      "execution_count": 10,
      "outputs": [
        {
          "output_type": "execute_result",
          "data": {
            "text/plain": [
              "49"
            ]
          },
          "metadata": {
            "tags": []
          },
          "execution_count": 10
        }
      ]
    },
    {
      "cell_type": "code",
      "metadata": {
        "colab": {
          "base_uri": "https://localhost:8080/"
        },
        "id": "D4WGhgMIrTCq",
        "outputId": "4e0ce65a-d24c-4aee-e95b-95ea62d12441"
      },
      "source": [
        "len(x_test)"
      ],
      "execution_count": 11,
      "outputs": [
        {
          "output_type": "execute_result",
          "data": {
            "text/plain": [
              "10"
            ]
          },
          "metadata": {
            "tags": []
          },
          "execution_count": 11
        }
      ]
    },
    {
      "cell_type": "code",
      "metadata": {
        "id": "-My1G_oGrZbb"
      },
      "source": [
        "from sklearn.preprocessing import StandardScaler\n",
        "sc = StandardScaler()\n",
        "x_train = sc.fit_transform(x_train)\n",
        "x_test = sc.transform(x_test)"
      ],
      "execution_count": 12,
      "outputs": []
    },
    {
      "cell_type": "code",
      "metadata": {
        "colab": {
          "base_uri": "https://localhost:8080/"
        },
        "id": "rzHlHvBnryqY",
        "outputId": "157ae454-c6be-4de8-def7-d00f0f9f7c7a"
      },
      "source": [
        "print(x_train)"
      ],
      "execution_count": 13,
      "outputs": [
        {
          "output_type": "stream",
          "text": [
            "[[ 1.44114802 -0.43637114]\n",
            " [ 0.50216613  0.47128083]\n",
            " [ 1.17286748  1.30329513]\n",
            " [ 0.36802587  0.54691849]\n",
            " [ 0.6363064   0.54691849]\n",
            " [-0.70509629  0.24436784]\n",
            " [ 0.2338856   1.00074448]\n",
            " [ 0.6363064  -0.05818282]\n",
            " [-0.83923655 -0.81455946]\n",
            " [ 1.57528829  0.3200055 ]\n",
            " [ 0.2338856   0.3200055 ]\n",
            " [-0.70509629 -0.43637114]\n",
            " [-1.91235871 -1.11711011]\n",
            " [-2.18063924 -0.81455946]\n",
            " [-1.24165736 -0.81455946]\n",
            " [ 1.97770909  1.22765747]\n",
            " [ 0.09974533 -0.81455946]\n",
            " [-0.70509629 -1.19274778]\n",
            " [-0.03439494  0.54691849]\n",
            " [ 1.30700775  0.3200055 ]\n",
            " [ 0.6363064  -1.94912441]\n",
            " [-0.16853521 -1.41966077]\n",
            " [-0.97337682  0.69819382]\n",
            " [-1.10751709 -0.20945815]\n",
            " [-0.03439494 -1.11711011]\n",
            " [-0.30267548 -0.05818282]\n",
            " [-1.24165736 -0.5120088 ]\n",
            " [ 0.90458694 -1.11711011]\n",
            " [ 0.36802587 -0.36073347]\n",
            " [-1.77821844 -0.73892179]\n",
            " [-0.30267548 -0.05818282]\n",
            " [-1.24165736 -0.89019712]\n",
            " [ 0.2338856   2.43786009]\n",
            " [ 1.30700775  1.83275878]\n",
            " [ 0.50216613  1.75712111]\n",
            " [ 0.36802587  0.77383148]\n",
            " [ 1.17286748  1.60584579]\n",
            " [ 0.36802587 -1.19274778]\n",
            " [-0.57095602  0.16873017]]\n"
          ],
          "name": "stdout"
        }
      ]
    },
    {
      "cell_type": "code",
      "metadata": {
        "colab": {
          "base_uri": "https://localhost:8080/"
        },
        "id": "buUaqyIsr2a6",
        "outputId": "7907853c-6b0a-4582-a409-da879689ba93"
      },
      "source": [
        "from sklearn.neighbors import KNeighborsClassifier\n",
        "classifier = KNeighborsClassifier(n_neighbors = 5, metric = 'minkowski', p=2)\n",
        "classifier.fit(x_train,y_train)"
      ],
      "execution_count": 14,
      "outputs": [
        {
          "output_type": "execute_result",
          "data": {
            "text/plain": [
              "KNeighborsClassifier(algorithm='auto', leaf_size=30, metric='minkowski',\n",
              "                     metric_params=None, n_jobs=None, n_neighbors=5, p=2,\n",
              "                     weights='uniform')"
            ]
          },
          "metadata": {
            "tags": []
          },
          "execution_count": 14
        }
      ]
    },
    {
      "cell_type": "code",
      "metadata": {
        "id": "fD8cnOz-sZMh"
      },
      "source": [
        "y_pred = classifier.predict(x_test)"
      ],
      "execution_count": 15,
      "outputs": []
    },
    {
      "cell_type": "code",
      "metadata": {
        "colab": {
          "base_uri": "https://localhost:8080/"
        },
        "id": "8BIq-t0hsgmN",
        "outputId": "0c0b3f55-0b5f-455d-d8e1-5fd3b49a0175"
      },
      "source": [
        "from sklearn.metrics import confusion_matrix\n",
        "cm = confusion_matrix(y_test, y_pred)\n",
        "print(cm)"
      ],
      "execution_count": 16,
      "outputs": [
        {
          "output_type": "stream",
          "text": [
            "[[1 2]\n",
            " [0 7]]\n"
          ],
          "name": "stdout"
        }
      ]
    },
    {
      "cell_type": "code",
      "metadata": {
        "colab": {
          "base_uri": "https://localhost:8080/",
          "height": 352
        },
        "id": "suyuRBubtGK0",
        "outputId": "cfa382f4-0b29-456f-d5a8-88eb09ac5805"
      },
      "source": [
        "from matplotlib.colors import ListedColormap\n",
        "x_set, y_set = x_train, y_train\n",
        "x1, x2 = np.meshgrid(np.arange(start=x_set[:,0].min()-1, stop=x_set[:, 0].max()+1, step=0.01),\n",
        "                     np.arange(start=x_set[:,1].min()-1, stop=x_set[:, 1].max()+1, step=0.01))\n",
        "plt.contourf(x1,x2, classifier.predict(np.array([x1.ravel(), x2.ravel()]).T).reshape(x1.shape),\n",
        "             alpha = 0.75, cmap = ListedColormap(('red', 'green')))\n",
        "plt.xlim(x1.min(), x1.max())\n",
        "plt.ylim(x2.min(), x2.max())\n",
        "for i, j in enumerate (np.unique(y_set)):\n",
        "  plt.scatter(x_set[y_set == j, 0], x_set[y_set == j, 1],\n",
        "              c = ListedColormap(('red', 'green'))(i), label = j)\n",
        "plt.title('Klasifikasi Data Dengan K-NN (Data Training)')\n",
        "plt.xlabel('Umur')\n",
        "plt.ylabel('Gaji')\n",
        "plt.legend()\n",
        "plt.show()"
      ],
      "execution_count": 17,
      "outputs": [
        {
          "output_type": "stream",
          "text": [
            "*c* argument looks like a single numeric RGB or RGBA sequence, which should be avoided as value-mapping will have precedence in case its length matches with *x* & *y*.  Please use the *color* keyword-argument or provide a 2-D array with a single row if you intend to specify the same RGB or RGBA value for all points.\n",
            "*c* argument looks like a single numeric RGB or RGBA sequence, which should be avoided as value-mapping will have precedence in case its length matches with *x* & *y*.  Please use the *color* keyword-argument or provide a 2-D array with a single row if you intend to specify the same RGB or RGBA value for all points.\n"
          ],
          "name": "stderr"
        },
        {
          "output_type": "display_data",
          "data": {
            "image/png": "[encoded data removed]",
            "text/plain": [
              "<Figure size 432x288 with 1 Axes>"
            ]
          },
          "metadata": {
            "tags": [],
            "needs_background": "light"
          }
        }
      ]
    },
    {
      "cell_type": "code",
      "metadata": {
        "colab": {
          "base_uri": "https://localhost:8080/",
          "height": 352
        },
        "id": "l4HUmUMqw6b_",
        "outputId": "919f2510-3efa-47fc-c8d3-1ec160a498e8"
      },
      "source": [
        "from matplotlib.colors import ListedColormap\n",
        "x_set, y_set = x_test, y_test\n",
        "x1, x2 = np.meshgrid(np.arange(start=x_set[:,0].min()-1, stop=x_set[:, 0].max()+1, step=0.01),\n",
        "                     np.arange(start=x_set[:,1].min()-1, stop=x_set[:, 1].max()+1, step=0.01))\n",
        "plt.contourf(x1,x2, classifier.predict(np.array([x1.ravel(), x2.ravel()]).T).reshape(x1.shape),\n",
        "             alpha = 0.75, cmap = ListedColormap(('red', 'green')))\n",
        "plt.xlim(x1.min(), x1.max())\n",
        "plt.ylim(x2.min(), x2.max())\n",
        "for i, j in enumerate (np.unique(y_set)):\n",
        "  plt.scatter(x_set[y_set == j, 0], x_set[y_set == j, 1],\n",
        "              c = ListedColormap(('red', 'green'))(i), label = j)\n",
        "plt.title('Klasifikasi Data Dengan K-NN (Data Testing)')\n",
        "plt.xlabel('Umur')\n",
        "plt.ylabel('Gaji')\n",
        "plt.legend()\n",
        "plt.show()"
      ],
      "execution_count": 18,
      "outputs": [
        {
          "output_type": "stream",
          "text": [
            "*c* argument looks like a single numeric RGB or RGBA sequence, which should be avoided as value-mapping will have precedence in case its length matches with *x* & *y*.  Please use the *color* keyword-argument or provide a 2-D array with a single row if you intend to specify the same RGB or RGBA value for all points.\n",
            "*c* argument looks like a single numeric RGB or RGBA sequence, which should be avoided as value-mapping will have precedence in case its length matches with *x* & *y*.  Please use the *color* keyword-argument or provide a 2-D array with a single row if you intend to specify the same RGB or RGBA value for all points.\n"
          ],
          "name": "stderr"
        },
        {
          "output_type": "display_data",
          "data": {
            "image/png": "[encoded data removed]",
            "text/plain": [
              "<Figure size 432x288 with 1 Axes>"
            ]
          },
          "metadata": {
            "tags": [],
            "needs_background": "light"
          }
        }
      ]
    }
  ]
}