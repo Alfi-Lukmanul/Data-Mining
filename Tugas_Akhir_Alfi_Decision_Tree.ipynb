{
  "nbformat": 4,
  "nbformat_minor": 0,
  "metadata": {
    "colab": {
      "name": "Tugas Akhir Alfi Decision Tree.ipynb",
      "provenance": [],
      "authorship_tag": "ABX9TyP6cEcCcWTSvHSa8+W5pL8d",
      "include_colab_link": true
    },
    "kernelspec": {
      "name": "python3",
      "display_name": "Python 3"
    },
    "language_info": {
      "name": "python"
    }
  },
  "cells": [
    {
      "cell_type": "markdown",
      "metadata": {
        "id": "view-in-github",
        "colab_type": "text"
      },
      "source": [
        "<a href=\"https://colab.research.google.com/github/Alfi-Lukmanul/Data-Mining/blob/main/Tugas_Akhir_Alfi_Decision_Tree.ipynb\" target=\"_parent\"><img src=\"https://colab.research.google.com/assets/colab-badge.svg\" alt=\"Open In Colab\"/></a>"
      ]
    },
    {
      "cell_type": "code",
      "metadata": {
        "id": "qeb3JF0LmNqY"
      },
      "source": [
        "import numpy as np\n",
        "import pandas as pd\n",
        "from sklearn import tree"
      ],
      "execution_count": 12,
      "outputs": []
    },
    {
      "cell_type": "code",
      "metadata": {
        "id": "X01xo139mgiR"
      },
      "source": [
        "#Membaca Dataset dari file ke pandas DataFrame\n",
        "HeartDataset=pd.read_csv('heart.csv', header=0)"
      ],
      "execution_count": 13,
      "outputs": []
    },
    {
      "cell_type": "code",
      "metadata": {
        "colab": {
          "base_uri": "https://localhost:8080/",
          "height": 206
        },
        "id": "L64l-0k6mpks",
        "outputId": "58e29014-990d-451d-cd55-363a22700057"
      },
      "source": [
        "HeartDataset.head(5)"
      ],
      "execution_count": 14,
      "outputs": [
        {
          "output_type": "execute_result",
          "data": {
            "text/html": [
              "<div>\n",
              "<style scoped>\n",
              "    .dataframe tbody tr th:only-of-type {\n",
              "        vertical-align: middle;\n",
              "    }\n",
              "\n",
              "    .dataframe tbody tr th {\n",
              "        vertical-align: top;\n",
              "    }\n",
              "\n",
              "    .dataframe thead th {\n",
              "        text-align: right;\n",
              "    }\n",
              "</style>\n",
              "<table border=\"1\" class=\"dataframe\">\n",
              "  <thead>\n",
              "    <tr style=\"text-align: right;\">\n",
              "      <th></th>\n",
              "      <th>age</th>\n",
              "      <th>sex</th>\n",
              "      <th>cp</th>\n",
              "      <th>trestbps</th>\n",
              "      <th>chol</th>\n",
              "      <th>fbs</th>\n",
              "      <th>restecg</th>\n",
              "      <th>thalach</th>\n",
              "      <th>exang</th>\n",
              "      <th>oldpeak</th>\n",
              "      <th>slope</th>\n",
              "      <th>ca</th>\n",
              "      <th>thal</th>\n",
              "      <th>target</th>\n",
              "    </tr>\n",
              "  </thead>\n",
              "  <tbody>\n",
              "    <tr>\n",
              "      <th>0</th>\n",
              "      <td>63</td>\n",
              "      <td>1</td>\n",
              "      <td>3</td>\n",
              "      <td>145</td>\n",
              "      <td>233</td>\n",
              "      <td>1</td>\n",
              "      <td>0</td>\n",
              "      <td>150</td>\n",
              "      <td>0</td>\n",
              "      <td>2.3</td>\n",
              "      <td>0</td>\n",
              "      <td>0</td>\n",
              "      <td>1</td>\n",
              "      <td>1</td>\n",
              "    </tr>\n",
              "    <tr>\n",
              "      <th>1</th>\n",
              "      <td>37</td>\n",
              "      <td>1</td>\n",
              "      <td>2</td>\n",
              "      <td>130</td>\n",
              "      <td>250</td>\n",
              "      <td>0</td>\n",
              "      <td>1</td>\n",
              "      <td>187</td>\n",
              "      <td>0</td>\n",
              "      <td>3.5</td>\n",
              "      <td>0</td>\n",
              "      <td>0</td>\n",
              "      <td>2</td>\n",
              "      <td>1</td>\n",
              "    </tr>\n",
              "    <tr>\n",
              "      <th>2</th>\n",
              "      <td>41</td>\n",
              "      <td>0</td>\n",
              "      <td>1</td>\n",
              "      <td>130</td>\n",
              "      <td>204</td>\n",
              "      <td>0</td>\n",
              "      <td>0</td>\n",
              "      <td>172</td>\n",
              "      <td>0</td>\n",
              "      <td>1.4</td>\n",
              "      <td>2</td>\n",
              "      <td>0</td>\n",
              "      <td>2</td>\n",
              "      <td>1</td>\n",
              "    </tr>\n",
              "    <tr>\n",
              "      <th>3</th>\n",
              "      <td>56</td>\n",
              "      <td>1</td>\n",
              "      <td>1</td>\n",
              "      <td>120</td>\n",
              "      <td>236</td>\n",
              "      <td>0</td>\n",
              "      <td>1</td>\n",
              "      <td>178</td>\n",
              "      <td>0</td>\n",
              "      <td>0.8</td>\n",
              "      <td>2</td>\n",
              "      <td>0</td>\n",
              "      <td>2</td>\n",
              "      <td>1</td>\n",
              "    </tr>\n",
              "    <tr>\n",
              "      <th>4</th>\n",
              "      <td>57</td>\n",
              "      <td>0</td>\n",
              "      <td>0</td>\n",
              "      <td>120</td>\n",
              "      <td>354</td>\n",
              "      <td>0</td>\n",
              "      <td>1</td>\n",
              "      <td>163</td>\n",
              "      <td>1</td>\n",
              "      <td>0.6</td>\n",
              "      <td>2</td>\n",
              "      <td>0</td>\n",
              "      <td>2</td>\n",
              "      <td>1</td>\n",
              "    </tr>\n",
              "  </tbody>\n",
              "</table>\n",
              "</div>"
            ],
            "text/plain": [
              "   age  sex  cp  trestbps  chol  fbs  ...  exang  oldpeak  slope  ca  thal  target\n",
              "0   63    1   3       145   233    1  ...      0      2.3      0   0     1       1\n",
              "1   37    1   2       130   250    0  ...      0      3.5      0   0     2       1\n",
              "2   41    0   1       130   204    0  ...      0      1.4      2   0     2       1\n",
              "3   56    1   1       120   236    0  ...      0      0.8      2   0     2       1\n",
              "4   57    0   0       120   354    0  ...      1      0.6      2   0     2       1\n",
              "\n",
              "[5 rows x 14 columns]"
            ]
          },
          "metadata": {
            "tags": []
          },
          "execution_count": 14
        }
      ]
    },
    {
      "cell_type": "code",
      "metadata": {
        "id": "exBZhJkCm0zw"
      },
      "source": [
        "HeartDataset[\"target\"] = pd.factorize(HeartDataset.target)[0]"
      ],
      "execution_count": 15,
      "outputs": []
    },
    {
      "cell_type": "code",
      "metadata": {
        "colab": {
          "base_uri": "https://localhost:8080/"
        },
        "id": "-FPojy7JnALW",
        "outputId": "50d49b6d-6528-485a-a0de-345a7c1913bb"
      },
      "source": [
        "print(HeartDataset)"
      ],
      "execution_count": 16,
      "outputs": [
        {
          "output_type": "stream",
          "text": [
            "     age  sex  cp  trestbps  chol  fbs  ...  exang  oldpeak  slope  ca  thal  target\n",
            "0     63    1   3       145   233    1  ...      0      2.3      0   0     1       0\n",
            "1     37    1   2       130   250    0  ...      0      3.5      0   0     2       0\n",
            "2     41    0   1       130   204    0  ...      0      1.4      2   0     2       0\n",
            "3     56    1   1       120   236    0  ...      0      0.8      2   0     2       0\n",
            "4     57    0   0       120   354    0  ...      1      0.6      2   0     2       0\n",
            "..   ...  ...  ..       ...   ...  ...  ...    ...      ...    ...  ..   ...     ...\n",
            "298   57    0   0       140   241    0  ...      1      0.2      1   0     3       1\n",
            "299   45    1   3       110   264    0  ...      0      1.2      1   0     3       1\n",
            "300   68    1   0       144   193    1  ...      0      3.4      1   2     3       1\n",
            "301   57    1   0       130   131    0  ...      1      1.2      1   1     3       1\n",
            "302   57    0   1       130   236    0  ...      0      0.0      1   1     2       1\n",
            "\n",
            "[303 rows x 14 columns]\n"
          ],
          "name": "stdout"
        }
      ]
    },
    {
      "cell_type": "code",
      "metadata": {
        "id": "J6nOYVjonVdM"
      },
      "source": [
        "HeartDataset = HeartDataset.to_numpy()\n",
        "#Mengybah dataFrame ke arah Numpy"
      ],
      "execution_count": 17,
      "outputs": []
    },
    {
      "cell_type": "code",
      "metadata": {
        "colab": {
          "base_uri": "https://localhost:8080/"
        },
        "id": "Su6am0Q7ndcB",
        "outputId": "1d8846d3-4f8e-4ae3-93c7-8144d7ea8e9a"
      },
      "source": [
        "print(HeartDataset)"
      ],
      "execution_count": 18,
      "outputs": [
        {
          "output_type": "stream",
          "text": [
            "[[63.  1.  3. ...  0.  1.  0.]\n",
            " [37.  1.  2. ...  0.  2.  0.]\n",
            " [41.  0.  1. ...  0.  2.  0.]\n",
            " ...\n",
            " [68.  1.  0. ...  2.  3.  1.]\n",
            " [57.  1.  0. ...  1.  3.  1.]\n",
            " [57.  0.  1. ...  1.  2.  1.]]\n"
          ],
          "name": "stdout"
        }
      ]
    },
    {
      "cell_type": "code",
      "metadata": {
        "id": "WM3EbbIJn9sG"
      },
      "source": [
        "#Membagi Dataset = > 60 Baris data untuk Data Testing, sisanya untuk Data Training\n",
        "dataTraining = np.concatenate((HeartDataset[0:123,:], HeartDataset[153:273, :]),axis=0)\n",
        "dataTesting = np.concatenate((HeartDataset[123:153,:], HeartDataset[273:303, :]),axis=0)"
      ],
      "execution_count": 57,
      "outputs": []
    },
    {
      "cell_type": "code",
      "metadata": {
        "colab": {
          "base_uri": "https://localhost:8080/"
        },
        "id": "SjvXAnkYqIYv",
        "outputId": "59b4d924-7c45-4ad3-d2bc-bb52547d5a51"
      },
      "source": [
        "print(dataTraining)\n",
        "len(dataTraining)"
      ],
      "execution_count": 58,
      "outputs": [
        {
          "output_type": "stream",
          "text": [
            "[[63.  1.  3. ...  0.  1.  0.]\n",
            " [37.  1.  2. ...  0.  2.  0.]\n",
            " [41.  0.  1. ...  0.  2.  0.]\n",
            " ...\n",
            " [46.  1.  0. ...  0.  3.  1.]\n",
            " [61.  1.  3. ...  2.  2.  1.]\n",
            " [67.  1.  0. ...  0.  2.  1.]]\n"
          ],
          "name": "stdout"
        },
        {
          "output_type": "execute_result",
          "data": {
            "text/plain": [
              "243"
            ]
          },
          "metadata": {
            "tags": []
          },
          "execution_count": 58
        }
      ]
    },
    {
      "cell_type": "code",
      "metadata": {
        "colab": {
          "base_uri": "https://localhost:8080/"
        },
        "id": "Nv_0lzrmqN2t",
        "outputId": "af70af4a-062c-437a-fef5-46feac6e42c9"
      },
      "source": [
        "print(dataTesting)\n",
        "len(dataTesting)"
      ],
      "execution_count": 59,
      "outputs": [
        {
          "output_type": "stream",
          "text": [
            "[[5.40e+01 0.00e+00 2.00e+00 1.08e+02 2.67e+02 0.00e+00 0.00e+00 1.67e+02\n",
            "  0.00e+00 0.00e+00 2.00e+00 0.00e+00 2.00e+00 0.00e+00]\n",
            " [3.90e+01 0.00e+00 2.00e+00 9.40e+01 1.99e+02 0.00e+00 1.00e+00 1.79e+02\n",
            "  0.00e+00 0.00e+00 2.00e+00 0.00e+00 2.00e+00 0.00e+00]\n",
            " [3.40e+01 0.00e+00 1.00e+00 1.18e+02 2.10e+02 0.00e+00 1.00e+00 1.92e+02\n",
            "  0.00e+00 7.00e-01 2.00e+00 0.00e+00 2.00e+00 0.00e+00]\n",
            " [4.70e+01 1.00e+00 0.00e+00 1.12e+02 2.04e+02 0.00e+00 1.00e+00 1.43e+02\n",
            "  0.00e+00 1.00e-01 2.00e+00 0.00e+00 2.00e+00 0.00e+00]\n",
            " [6.70e+01 0.00e+00 2.00e+00 1.52e+02 2.77e+02 0.00e+00 1.00e+00 1.72e+02\n",
            "  0.00e+00 0.00e+00 2.00e+00 1.00e+00 2.00e+00 0.00e+00]\n",
            " [5.20e+01 0.00e+00 2.00e+00 1.36e+02 1.96e+02 0.00e+00 0.00e+00 1.69e+02\n",
            "  0.00e+00 1.00e-01 1.00e+00 0.00e+00 2.00e+00 0.00e+00]\n",
            " [7.40e+01 0.00e+00 1.00e+00 1.20e+02 2.69e+02 0.00e+00 0.00e+00 1.21e+02\n",
            "  1.00e+00 2.00e-01 2.00e+00 1.00e+00 2.00e+00 0.00e+00]\n",
            " [5.40e+01 0.00e+00 2.00e+00 1.60e+02 2.01e+02 0.00e+00 1.00e+00 1.63e+02\n",
            "  0.00e+00 0.00e+00 2.00e+00 1.00e+00 2.00e+00 0.00e+00]\n",
            " [4.90e+01 0.00e+00 1.00e+00 1.34e+02 2.71e+02 0.00e+00 1.00e+00 1.62e+02\n",
            "  0.00e+00 0.00e+00 1.00e+00 0.00e+00 2.00e+00 0.00e+00]\n",
            " [4.20e+01 1.00e+00 1.00e+00 1.20e+02 2.95e+02 0.00e+00 1.00e+00 1.62e+02\n",
            "  0.00e+00 0.00e+00 2.00e+00 0.00e+00 2.00e+00 0.00e+00]\n",
            " [4.10e+01 1.00e+00 1.00e+00 1.10e+02 2.35e+02 0.00e+00 1.00e+00 1.53e+02\n",
            "  0.00e+00 0.00e+00 2.00e+00 0.00e+00 2.00e+00 0.00e+00]\n",
            " [4.10e+01 0.00e+00 1.00e+00 1.26e+02 3.06e+02 0.00e+00 1.00e+00 1.63e+02\n",
            "  0.00e+00 0.00e+00 2.00e+00 0.00e+00 2.00e+00 0.00e+00]\n",
            " [4.90e+01 0.00e+00 0.00e+00 1.30e+02 2.69e+02 0.00e+00 1.00e+00 1.63e+02\n",
            "  0.00e+00 0.00e+00 2.00e+00 0.00e+00 2.00e+00 0.00e+00]\n",
            " [6.00e+01 0.00e+00 2.00e+00 1.20e+02 1.78e+02 1.00e+00 1.00e+00 9.60e+01\n",
            "  0.00e+00 0.00e+00 2.00e+00 0.00e+00 2.00e+00 0.00e+00]\n",
            " [6.20e+01 1.00e+00 1.00e+00 1.28e+02 2.08e+02 1.00e+00 0.00e+00 1.40e+02\n",
            "  0.00e+00 0.00e+00 2.00e+00 0.00e+00 2.00e+00 0.00e+00]\n",
            " [5.70e+01 1.00e+00 0.00e+00 1.10e+02 2.01e+02 0.00e+00 1.00e+00 1.26e+02\n",
            "  1.00e+00 1.50e+00 1.00e+00 0.00e+00 1.00e+00 0.00e+00]\n",
            " [6.40e+01 1.00e+00 0.00e+00 1.28e+02 2.63e+02 0.00e+00 1.00e+00 1.05e+02\n",
            "  1.00e+00 2.00e-01 1.00e+00 1.00e+00 3.00e+00 0.00e+00]\n",
            " [5.10e+01 0.00e+00 2.00e+00 1.20e+02 2.95e+02 0.00e+00 0.00e+00 1.57e+02\n",
            "  0.00e+00 6.00e-01 2.00e+00 0.00e+00 2.00e+00 0.00e+00]\n",
            " [4.30e+01 1.00e+00 0.00e+00 1.15e+02 3.03e+02 0.00e+00 1.00e+00 1.81e+02\n",
            "  0.00e+00 1.20e+00 1.00e+00 0.00e+00 2.00e+00 0.00e+00]\n",
            " [4.20e+01 0.00e+00 2.00e+00 1.20e+02 2.09e+02 0.00e+00 1.00e+00 1.73e+02\n",
            "  0.00e+00 0.00e+00 1.00e+00 0.00e+00 2.00e+00 0.00e+00]\n",
            " [6.70e+01 0.00e+00 0.00e+00 1.06e+02 2.23e+02 0.00e+00 1.00e+00 1.42e+02\n",
            "  0.00e+00 3.00e-01 2.00e+00 2.00e+00 2.00e+00 0.00e+00]\n",
            " [7.60e+01 0.00e+00 2.00e+00 1.40e+02 1.97e+02 0.00e+00 2.00e+00 1.16e+02\n",
            "  0.00e+00 1.10e+00 1.00e+00 0.00e+00 2.00e+00 0.00e+00]\n",
            " [7.00e+01 1.00e+00 1.00e+00 1.56e+02 2.45e+02 0.00e+00 0.00e+00 1.43e+02\n",
            "  0.00e+00 0.00e+00 2.00e+00 0.00e+00 2.00e+00 0.00e+00]\n",
            " [4.40e+01 0.00e+00 2.00e+00 1.18e+02 2.42e+02 0.00e+00 1.00e+00 1.49e+02\n",
            "  0.00e+00 3.00e-01 1.00e+00 1.00e+00 2.00e+00 0.00e+00]\n",
            " [6.00e+01 0.00e+00 3.00e+00 1.50e+02 2.40e+02 0.00e+00 1.00e+00 1.71e+02\n",
            "  0.00e+00 9.00e-01 2.00e+00 0.00e+00 2.00e+00 0.00e+00]\n",
            " [4.40e+01 1.00e+00 2.00e+00 1.20e+02 2.26e+02 0.00e+00 1.00e+00 1.69e+02\n",
            "  0.00e+00 0.00e+00 2.00e+00 0.00e+00 2.00e+00 0.00e+00]\n",
            " [4.20e+01 1.00e+00 2.00e+00 1.30e+02 1.80e+02 0.00e+00 1.00e+00 1.50e+02\n",
            "  0.00e+00 0.00e+00 2.00e+00 0.00e+00 2.00e+00 0.00e+00]\n",
            " [6.60e+01 1.00e+00 0.00e+00 1.60e+02 2.28e+02 0.00e+00 0.00e+00 1.38e+02\n",
            "  0.00e+00 2.30e+00 2.00e+00 0.00e+00 1.00e+00 0.00e+00]\n",
            " [7.10e+01 0.00e+00 0.00e+00 1.12e+02 1.49e+02 0.00e+00 1.00e+00 1.25e+02\n",
            "  0.00e+00 1.60e+00 1.00e+00 0.00e+00 2.00e+00 0.00e+00]\n",
            " [6.40e+01 1.00e+00 3.00e+00 1.70e+02 2.27e+02 0.00e+00 0.00e+00 1.55e+02\n",
            "  0.00e+00 6.00e-01 1.00e+00 0.00e+00 3.00e+00 0.00e+00]\n",
            " [5.80e+01 1.00e+00 0.00e+00 1.00e+02 2.34e+02 0.00e+00 1.00e+00 1.56e+02\n",
            "  0.00e+00 1.00e-01 2.00e+00 1.00e+00 3.00e+00 1.00e+00]\n",
            " [4.70e+01 1.00e+00 0.00e+00 1.10e+02 2.75e+02 0.00e+00 0.00e+00 1.18e+02\n",
            "  1.00e+00 1.00e+00 1.00e+00 1.00e+00 2.00e+00 1.00e+00]\n",
            " [5.20e+01 1.00e+00 0.00e+00 1.25e+02 2.12e+02 0.00e+00 1.00e+00 1.68e+02\n",
            "  0.00e+00 1.00e+00 2.00e+00 2.00e+00 3.00e+00 1.00e+00]\n",
            " [5.80e+01 1.00e+00 0.00e+00 1.46e+02 2.18e+02 0.00e+00 1.00e+00 1.05e+02\n",
            "  0.00e+00 2.00e+00 1.00e+00 1.00e+00 3.00e+00 1.00e+00]\n",
            " [5.70e+01 1.00e+00 1.00e+00 1.24e+02 2.61e+02 0.00e+00 1.00e+00 1.41e+02\n",
            "  0.00e+00 3.00e-01 2.00e+00 0.00e+00 3.00e+00 1.00e+00]\n",
            " [5.80e+01 0.00e+00 1.00e+00 1.36e+02 3.19e+02 1.00e+00 0.00e+00 1.52e+02\n",
            "  0.00e+00 0.00e+00 2.00e+00 2.00e+00 2.00e+00 1.00e+00]\n",
            " [6.10e+01 1.00e+00 0.00e+00 1.38e+02 1.66e+02 0.00e+00 0.00e+00 1.25e+02\n",
            "  1.00e+00 3.60e+00 1.00e+00 1.00e+00 2.00e+00 1.00e+00]\n",
            " [4.20e+01 1.00e+00 0.00e+00 1.36e+02 3.15e+02 0.00e+00 1.00e+00 1.25e+02\n",
            "  1.00e+00 1.80e+00 1.00e+00 0.00e+00 1.00e+00 1.00e+00]\n",
            " [5.20e+01 1.00e+00 0.00e+00 1.28e+02 2.04e+02 1.00e+00 1.00e+00 1.56e+02\n",
            "  1.00e+00 1.00e+00 1.00e+00 0.00e+00 0.00e+00 1.00e+00]\n",
            " [5.90e+01 1.00e+00 2.00e+00 1.26e+02 2.18e+02 1.00e+00 1.00e+00 1.34e+02\n",
            "  0.00e+00 2.20e+00 1.00e+00 1.00e+00 1.00e+00 1.00e+00]\n",
            " [4.00e+01 1.00e+00 0.00e+00 1.52e+02 2.23e+02 0.00e+00 1.00e+00 1.81e+02\n",
            "  0.00e+00 0.00e+00 2.00e+00 0.00e+00 3.00e+00 1.00e+00]\n",
            " [6.10e+01 1.00e+00 0.00e+00 1.40e+02 2.07e+02 0.00e+00 0.00e+00 1.38e+02\n",
            "  1.00e+00 1.90e+00 2.00e+00 1.00e+00 3.00e+00 1.00e+00]\n",
            " [4.60e+01 1.00e+00 0.00e+00 1.40e+02 3.11e+02 0.00e+00 1.00e+00 1.20e+02\n",
            "  1.00e+00 1.80e+00 1.00e+00 2.00e+00 3.00e+00 1.00e+00]\n",
            " [5.90e+01 1.00e+00 3.00e+00 1.34e+02 2.04e+02 0.00e+00 1.00e+00 1.62e+02\n",
            "  0.00e+00 8.00e-01 2.00e+00 2.00e+00 2.00e+00 1.00e+00]\n",
            " [5.70e+01 1.00e+00 1.00e+00 1.54e+02 2.32e+02 0.00e+00 0.00e+00 1.64e+02\n",
            "  0.00e+00 0.00e+00 2.00e+00 1.00e+00 2.00e+00 1.00e+00]\n",
            " [5.70e+01 1.00e+00 0.00e+00 1.10e+02 3.35e+02 0.00e+00 1.00e+00 1.43e+02\n",
            "  1.00e+00 3.00e+00 1.00e+00 1.00e+00 3.00e+00 1.00e+00]\n",
            " [5.50e+01 0.00e+00 0.00e+00 1.28e+02 2.05e+02 0.00e+00 2.00e+00 1.30e+02\n",
            "  1.00e+00 2.00e+00 1.00e+00 1.00e+00 3.00e+00 1.00e+00]\n",
            " [6.10e+01 1.00e+00 0.00e+00 1.48e+02 2.03e+02 0.00e+00 1.00e+00 1.61e+02\n",
            "  0.00e+00 0.00e+00 2.00e+00 1.00e+00 3.00e+00 1.00e+00]\n",
            " [5.80e+01 1.00e+00 0.00e+00 1.14e+02 3.18e+02 0.00e+00 2.00e+00 1.40e+02\n",
            "  0.00e+00 4.40e+00 0.00e+00 3.00e+00 1.00e+00 1.00e+00]\n",
            " [5.80e+01 0.00e+00 0.00e+00 1.70e+02 2.25e+02 1.00e+00 0.00e+00 1.46e+02\n",
            "  1.00e+00 2.80e+00 1.00e+00 2.00e+00 1.00e+00 1.00e+00]\n",
            " [6.70e+01 1.00e+00 2.00e+00 1.52e+02 2.12e+02 0.00e+00 0.00e+00 1.50e+02\n",
            "  0.00e+00 8.00e-01 1.00e+00 0.00e+00 3.00e+00 1.00e+00]\n",
            " [4.40e+01 1.00e+00 0.00e+00 1.20e+02 1.69e+02 0.00e+00 1.00e+00 1.44e+02\n",
            "  1.00e+00 2.80e+00 0.00e+00 0.00e+00 1.00e+00 1.00e+00]\n",
            " [6.30e+01 1.00e+00 0.00e+00 1.40e+02 1.87e+02 0.00e+00 0.00e+00 1.44e+02\n",
            "  1.00e+00 4.00e+00 2.00e+00 2.00e+00 3.00e+00 1.00e+00]\n",
            " [6.30e+01 0.00e+00 0.00e+00 1.24e+02 1.97e+02 0.00e+00 1.00e+00 1.36e+02\n",
            "  1.00e+00 0.00e+00 1.00e+00 0.00e+00 2.00e+00 1.00e+00]\n",
            " [5.90e+01 1.00e+00 0.00e+00 1.64e+02 1.76e+02 1.00e+00 0.00e+00 9.00e+01\n",
            "  0.00e+00 1.00e+00 1.00e+00 2.00e+00 1.00e+00 1.00e+00]\n",
            " [5.70e+01 0.00e+00 0.00e+00 1.40e+02 2.41e+02 0.00e+00 1.00e+00 1.23e+02\n",
            "  1.00e+00 2.00e-01 1.00e+00 0.00e+00 3.00e+00 1.00e+00]\n",
            " [4.50e+01 1.00e+00 3.00e+00 1.10e+02 2.64e+02 0.00e+00 1.00e+00 1.32e+02\n",
            "  0.00e+00 1.20e+00 1.00e+00 0.00e+00 3.00e+00 1.00e+00]\n",
            " [6.80e+01 1.00e+00 0.00e+00 1.44e+02 1.93e+02 1.00e+00 1.00e+00 1.41e+02\n",
            "  0.00e+00 3.40e+00 1.00e+00 2.00e+00 3.00e+00 1.00e+00]\n",
            " [5.70e+01 1.00e+00 0.00e+00 1.30e+02 1.31e+02 0.00e+00 1.00e+00 1.15e+02\n",
            "  1.00e+00 1.20e+00 1.00e+00 1.00e+00 3.00e+00 1.00e+00]\n",
            " [5.70e+01 0.00e+00 1.00e+00 1.30e+02 2.36e+02 0.00e+00 0.00e+00 1.74e+02\n",
            "  0.00e+00 0.00e+00 1.00e+00 1.00e+00 2.00e+00 1.00e+00]]\n"
          ],
          "name": "stdout"
        },
        {
          "output_type": "execute_result",
          "data": {
            "text/plain": [
              "60"
            ]
          },
          "metadata": {
            "tags": []
          },
          "execution_count": 59
        }
      ]
    },
    {
      "cell_type": "code",
      "metadata": {
        "colab": {
          "base_uri": "https://localhost:8080/"
        },
        "id": "f9BWcnT7qxVp",
        "outputId": "184ee1c0-0a12-463d-d6c4-be66167b20d2"
      },
      "source": [
        "#Memecah DAtaset ke input dan label\n",
        "inputTraining = dataTraining[:, 0:13]\n",
        "inputTesting = dataTesting[:, 0:13]\n",
        "labelTraining = dataTraining[:, 13]\n",
        "labelTesting = dataTesting[:, 13]\n",
        "print(labelTraining)\n",
        "len(labelTraining)"
      ],
      "execution_count": 60,
      "outputs": [
        {
          "output_type": "stream",
          "text": [
            "[0. 0. 0. 0. 0. 0. 0. 0. 0. 0. 0. 0. 0. 0. 0. 0. 0. 0. 0. 0. 0. 0. 0. 0.\n",
            " 0. 0. 0. 0. 0. 0. 0. 0. 0. 0. 0. 0. 0. 0. 0. 0. 0. 0. 0. 0. 0. 0. 0. 0.\n",
            " 0. 0. 0. 0. 0. 0. 0. 0. 0. 0. 0. 0. 0. 0. 0. 0. 0. 0. 0. 0. 0. 0. 0. 0.\n",
            " 0. 0. 0. 0. 0. 0. 0. 0. 0. 0. 0. 0. 0. 0. 0. 0. 0. 0. 0. 0. 0. 0. 0. 0.\n",
            " 0. 0. 0. 0. 0. 0. 0. 0. 0. 0. 0. 0. 0. 0. 0. 0. 0. 0. 0. 0. 0. 0. 0. 0.\n",
            " 0. 0. 0. 0. 0. 0. 0. 0. 0. 0. 0. 0. 0. 0. 0. 1. 1. 1. 1. 1. 1. 1. 1. 1.\n",
            " 1. 1. 1. 1. 1. 1. 1. 1. 1. 1. 1. 1. 1. 1. 1. 1. 1. 1. 1. 1. 1. 1. 1. 1.\n",
            " 1. 1. 1. 1. 1. 1. 1. 1. 1. 1. 1. 1. 1. 1. 1. 1. 1. 1. 1. 1. 1. 1. 1. 1.\n",
            " 1. 1. 1. 1. 1. 1. 1. 1. 1. 1. 1. 1. 1. 1. 1. 1. 1. 1. 1. 1. 1. 1. 1. 1.\n",
            " 1. 1. 1. 1. 1. 1. 1. 1. 1. 1. 1. 1. 1. 1. 1. 1. 1. 1. 1. 1. 1. 1. 1. 1.\n",
            " 1. 1. 1.]\n"
          ],
          "name": "stdout"
        },
        {
          "output_type": "execute_result",
          "data": {
            "text/plain": [
              "243"
            ]
          },
          "metadata": {
            "tags": []
          },
          "execution_count": 60
        }
      ]
    },
    {
      "cell_type": "code",
      "metadata": {
        "id": "z1nqBD_JraF1"
      },
      "source": [
        "#Mendefinisikan Decision Tree Classifer\n",
        "model =tree.DecisionTreeClassifier()"
      ],
      "execution_count": 61,
      "outputs": []
    },
    {
      "cell_type": "code",
      "metadata": {
        "id": "b-I9QpFurpv0"
      },
      "source": [
        "#Mentraining Model\n",
        "model = model.fit(inputTraining, labelTraining)"
      ],
      "execution_count": 62,
      "outputs": []
    },
    {
      "cell_type": "code",
      "metadata": {
        "colab": {
          "base_uri": "https://localhost:8080/"
        },
        "id": "mL-6hBwHrxqx",
        "outputId": "42b7f10a-1896-4f33-ebab-91724586eefc"
      },
      "source": [
        "#Memprediksi Input Data Testing\n",
        "hasilPrediksi = model.predict(inputTesting)\n",
        "print(\"Label Sebenarnya : \", labelTesting)\n",
        "print(\"Hasil Prediksi : \", hasilPrediksi)"
      ],
      "execution_count": 63,
      "outputs": [
        {
          "output_type": "stream",
          "text": [
            "Label Sebenarnya :  [0. 0. 0. 0. 0. 0. 0. 0. 0. 0. 0. 0. 0. 0. 0. 0. 0. 0. 0. 0. 0. 0. 0. 0.\n",
            " 0. 0. 0. 0. 0. 0. 1. 1. 1. 1. 1. 1. 1. 1. 1. 1. 1. 1. 1. 1. 1. 1. 1. 1.\n",
            " 1. 1. 1. 1. 1. 1. 1. 1. 1. 1. 1. 1.]\n",
            "Hasil Prediksi :  [0. 0. 0. 0. 0. 0. 1. 0. 0. 0. 1. 0. 0. 0. 1. 0. 1. 0. 0. 0. 1. 0. 1. 1.\n",
            " 0. 0. 1. 1. 1. 0. 1. 1. 1. 1. 0. 1. 1. 0. 0. 0. 0. 1. 1. 0. 0. 1. 1. 1.\n",
            " 1. 1. 0. 0. 1. 1. 1. 0. 0. 1. 1. 1.]\n"
          ],
          "name": "stdout"
        }
      ]
    },
    {
      "cell_type": "code",
      "metadata": {
        "colab": {
          "base_uri": "https://localhost:8080/"
        },
        "id": "lDlB_WP3sEnm",
        "outputId": "35ef6648-998e-49a4-861a-5ac4664013df"
      },
      "source": [
        "#Menghitung Akurasi\n",
        "prediksiBenar = (hasilPrediksi==labelTesting).sum()\n",
        "prediksiSalah = (hasilPrediksi != labelTesting).sum()\n",
        "print(\"Prediksi Benar : \", prediksiBenar, \" data\")\n",
        "print(\"Prediksi Salah : \", prediksiSalah, \" data\")\n",
        "print(\"Akurasi : \", prediksiBenar/(prediksiBenar+prediksiSalah)*100, \"%\")"
      ],
      "execution_count": 64,
      "outputs": [
        {
          "output_type": "stream",
          "text": [
            "Prediksi Benar :  39  data\n",
            "Prediksi Salah :  21  data\n",
            "Akurasi :  65.0 %\n"
          ],
          "name": "stdout"
        }
      ]
    }
  ]
}